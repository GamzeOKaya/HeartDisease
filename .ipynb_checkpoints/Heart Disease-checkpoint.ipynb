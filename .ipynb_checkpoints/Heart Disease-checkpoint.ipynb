{
 "cells": [
  {
   "cell_type": "markdown",
   "id": "16aef440-f49d-4a07-9f46-28e5277ade88",
   "metadata": {},
   "source": [
    "# Heart Dataset\n",
    "\n",
    "   We will use SVM Classification , Decision Trees Classification and Random Forest Classification"
   ]
  },
  {
   "cell_type": "markdown",
   "id": "0951cea3-2076-482a-9e2a-1e7612d26f5f",
   "metadata": {},
   "source": [
    "# Import Library"
   ]
  },
  {
   "cell_type": "code",
   "execution_count": 77,
   "id": "0df89246",
   "metadata": {},
   "outputs": [],
   "source": [
    "import numpy as np\n",
    "import pandas as pd\n",
    "import seaborn as sns\n",
    "import matplotlib.pyplot as plt\n",
    "import warnings\n",
    "pd.set_option('display.float_format', '{:.2f}'.format)\n",
    "warnings.filterwarnings(\"ignore\")"
   ]
  },
  {
   "cell_type": "code",
   "execution_count": null,
   "id": "db18dacc",
   "metadata": {},
   "outputs": [],
   "source": []
  },
  {
   "cell_type": "markdown",
   "id": "55c78ff5-7728-4a03-9e18-1a3fb11a7ec3",
   "metadata": {},
   "source": [
    "# Read Dataset"
   ]
  },
  {
   "cell_type": "code",
   "execution_count": 2,
   "id": "0cf7dbc3",
   "metadata": {},
   "outputs": [],
   "source": [
    "df = pd.read_csv(\"heart.csv\")"
   ]
  },
  {
   "cell_type": "markdown",
   "id": "702fc477-6ccc-46f0-b5b3-f9e8814ae962",
   "metadata": {},
   "source": [
    "# Data Preparation"
   ]
  },
  {
   "cell_type": "code",
   "execution_count": 6,
   "id": "efa9821d",
   "metadata": {},
   "outputs": [
    {
     "name": "stdout",
     "output_type": "stream",
     "text": [
      "<class 'pandas.core.frame.DataFrame'>\n",
      "RangeIndex: 303 entries, 0 to 302\n",
      "Data columns (total 14 columns):\n",
      " #   Column    Non-Null Count  Dtype  \n",
      "---  ------    --------------  -----  \n",
      " 0   age       303 non-null    int64  \n",
      " 1   sex       303 non-null    int64  \n",
      " 2   cp        303 non-null    int64  \n",
      " 3   trestbps  303 non-null    int64  \n",
      " 4   chol      303 non-null    int64  \n",
      " 5   fbs       303 non-null    int64  \n",
      " 6   restecg   303 non-null    int64  \n",
      " 7   thalach   303 non-null    int64  \n",
      " 8   exang     303 non-null    int64  \n",
      " 9   oldpeak   303 non-null    float64\n",
      " 10  slope     303 non-null    int64  \n",
      " 11  ca        303 non-null    int64  \n",
      " 12  thal      303 non-null    int64  \n",
      " 13  target    303 non-null    int64  \n",
      "dtypes: float64(1), int64(13)\n",
      "memory usage: 33.3 KB\n"
     ]
    }
   ],
   "source": [
    "df.info()"
   ]
  },
  {
   "cell_type": "raw",
   "id": "ed3c55aa",
   "metadata": {},
   "source": [
    "Definitions of the features\n",
    "age - age in years\n",
    "sex - sex (1 = male; 0 = female)\n",
    "cp - chest pain type (1 = typical angina; 2 = atypical angina; 3 = non-anginal pain; 4 = asymptomatic)\n",
    "trestbps - resting blood pressure (in mm Hg on admission to the hospital)\n",
    "chol - serum cholestoral in mg/dl\n",
    "fbs - fasting blood sugar > 120 mg/dl (1 = true; 0 = false)\n",
    "restecg - resting electrocardiographic results (0 = normal; 1 = having ST-T; 2 = hypertrophy)\n",
    "thalach - maximum heart rate achieved\n",
    "exang - exercise induced angina (1 = yes; 0 = no)\n",
    "oldpeak - ST depression induced by exercise relative to rest\n",
    "slope - the slope of the peak exercise ST segment (1 = upsloping; 2 = flat; 3 = downsloping)\n",
    "ca - number of major vessels (0-3) colored by flourosopy\n",
    "thal - 3 = normal; 6 = fixed defect; 7 = reversable defect\n",
    "target - the predicted attribute - diagnosis of heart disease "
   ]
  },
  {
   "cell_type": "code",
   "execution_count": 5,
   "id": "0df5fe59",
   "metadata": {},
   "outputs": [
    {
     "data": {
      "text/html": [
       "<div>\n",
       "<style scoped>\n",
       "    .dataframe tbody tr th:only-of-type {\n",
       "        vertical-align: middle;\n",
       "    }\n",
       "\n",
       "    .dataframe tbody tr th {\n",
       "        vertical-align: top;\n",
       "    }\n",
       "\n",
       "    .dataframe thead th {\n",
       "        text-align: right;\n",
       "    }\n",
       "</style>\n",
       "<table border=\"1\" class=\"dataframe\">\n",
       "  <thead>\n",
       "    <tr style=\"text-align: right;\">\n",
       "      <th></th>\n",
       "      <th>age</th>\n",
       "      <th>sex</th>\n",
       "      <th>cp</th>\n",
       "      <th>trestbps</th>\n",
       "      <th>chol</th>\n",
       "      <th>fbs</th>\n",
       "      <th>restecg</th>\n",
       "      <th>thalach</th>\n",
       "      <th>exang</th>\n",
       "      <th>oldpeak</th>\n",
       "      <th>slope</th>\n",
       "      <th>ca</th>\n",
       "      <th>thal</th>\n",
       "      <th>target</th>\n",
       "    </tr>\n",
       "  </thead>\n",
       "  <tbody>\n",
       "    <tr>\n",
       "      <th>count</th>\n",
       "      <td>303.000000</td>\n",
       "      <td>303.000000</td>\n",
       "      <td>303.000000</td>\n",
       "      <td>303.000000</td>\n",
       "      <td>303.000000</td>\n",
       "      <td>303.000000</td>\n",
       "      <td>303.000000</td>\n",
       "      <td>303.000000</td>\n",
       "      <td>303.000000</td>\n",
       "      <td>303.000000</td>\n",
       "      <td>303.000000</td>\n",
       "      <td>303.000000</td>\n",
       "      <td>303.000000</td>\n",
       "      <td>303.000000</td>\n",
       "    </tr>\n",
       "    <tr>\n",
       "      <th>mean</th>\n",
       "      <td>54.366337</td>\n",
       "      <td>0.683168</td>\n",
       "      <td>0.966997</td>\n",
       "      <td>131.623762</td>\n",
       "      <td>246.264026</td>\n",
       "      <td>0.148515</td>\n",
       "      <td>0.528053</td>\n",
       "      <td>149.646865</td>\n",
       "      <td>0.326733</td>\n",
       "      <td>1.039604</td>\n",
       "      <td>1.399340</td>\n",
       "      <td>0.729373</td>\n",
       "      <td>2.313531</td>\n",
       "      <td>0.544554</td>\n",
       "    </tr>\n",
       "    <tr>\n",
       "      <th>std</th>\n",
       "      <td>9.082101</td>\n",
       "      <td>0.466011</td>\n",
       "      <td>1.032052</td>\n",
       "      <td>17.538143</td>\n",
       "      <td>51.830751</td>\n",
       "      <td>0.356198</td>\n",
       "      <td>0.525860</td>\n",
       "      <td>22.905161</td>\n",
       "      <td>0.469794</td>\n",
       "      <td>1.161075</td>\n",
       "      <td>0.616226</td>\n",
       "      <td>1.022606</td>\n",
       "      <td>0.612277</td>\n",
       "      <td>0.498835</td>\n",
       "    </tr>\n",
       "    <tr>\n",
       "      <th>min</th>\n",
       "      <td>29.000000</td>\n",
       "      <td>0.000000</td>\n",
       "      <td>0.000000</td>\n",
       "      <td>94.000000</td>\n",
       "      <td>126.000000</td>\n",
       "      <td>0.000000</td>\n",
       "      <td>0.000000</td>\n",
       "      <td>71.000000</td>\n",
       "      <td>0.000000</td>\n",
       "      <td>0.000000</td>\n",
       "      <td>0.000000</td>\n",
       "      <td>0.000000</td>\n",
       "      <td>0.000000</td>\n",
       "      <td>0.000000</td>\n",
       "    </tr>\n",
       "    <tr>\n",
       "      <th>25%</th>\n",
       "      <td>47.500000</td>\n",
       "      <td>0.000000</td>\n",
       "      <td>0.000000</td>\n",
       "      <td>120.000000</td>\n",
       "      <td>211.000000</td>\n",
       "      <td>0.000000</td>\n",
       "      <td>0.000000</td>\n",
       "      <td>133.500000</td>\n",
       "      <td>0.000000</td>\n",
       "      <td>0.000000</td>\n",
       "      <td>1.000000</td>\n",
       "      <td>0.000000</td>\n",
       "      <td>2.000000</td>\n",
       "      <td>0.000000</td>\n",
       "    </tr>\n",
       "    <tr>\n",
       "      <th>50%</th>\n",
       "      <td>55.000000</td>\n",
       "      <td>1.000000</td>\n",
       "      <td>1.000000</td>\n",
       "      <td>130.000000</td>\n",
       "      <td>240.000000</td>\n",
       "      <td>0.000000</td>\n",
       "      <td>1.000000</td>\n",
       "      <td>153.000000</td>\n",
       "      <td>0.000000</td>\n",
       "      <td>0.800000</td>\n",
       "      <td>1.000000</td>\n",
       "      <td>0.000000</td>\n",
       "      <td>2.000000</td>\n",
       "      <td>1.000000</td>\n",
       "    </tr>\n",
       "    <tr>\n",
       "      <th>75%</th>\n",
       "      <td>61.000000</td>\n",
       "      <td>1.000000</td>\n",
       "      <td>2.000000</td>\n",
       "      <td>140.000000</td>\n",
       "      <td>274.500000</td>\n",
       "      <td>0.000000</td>\n",
       "      <td>1.000000</td>\n",
       "      <td>166.000000</td>\n",
       "      <td>1.000000</td>\n",
       "      <td>1.600000</td>\n",
       "      <td>2.000000</td>\n",
       "      <td>1.000000</td>\n",
       "      <td>3.000000</td>\n",
       "      <td>1.000000</td>\n",
       "    </tr>\n",
       "    <tr>\n",
       "      <th>max</th>\n",
       "      <td>77.000000</td>\n",
       "      <td>1.000000</td>\n",
       "      <td>3.000000</td>\n",
       "      <td>200.000000</td>\n",
       "      <td>564.000000</td>\n",
       "      <td>1.000000</td>\n",
       "      <td>2.000000</td>\n",
       "      <td>202.000000</td>\n",
       "      <td>1.000000</td>\n",
       "      <td>6.200000</td>\n",
       "      <td>2.000000</td>\n",
       "      <td>4.000000</td>\n",
       "      <td>3.000000</td>\n",
       "      <td>1.000000</td>\n",
       "    </tr>\n",
       "  </tbody>\n",
       "</table>\n",
       "</div>"
      ],
      "text/plain": [
       "              age         sex          cp    trestbps        chol         fbs  \\\n",
       "count  303.000000  303.000000  303.000000  303.000000  303.000000  303.000000   \n",
       "mean    54.366337    0.683168    0.966997  131.623762  246.264026    0.148515   \n",
       "std      9.082101    0.466011    1.032052   17.538143   51.830751    0.356198   \n",
       "min     29.000000    0.000000    0.000000   94.000000  126.000000    0.000000   \n",
       "25%     47.500000    0.000000    0.000000  120.000000  211.000000    0.000000   \n",
       "50%     55.000000    1.000000    1.000000  130.000000  240.000000    0.000000   \n",
       "75%     61.000000    1.000000    2.000000  140.000000  274.500000    0.000000   \n",
       "max     77.000000    1.000000    3.000000  200.000000  564.000000    1.000000   \n",
       "\n",
       "          restecg     thalach       exang     oldpeak       slope          ca  \\\n",
       "count  303.000000  303.000000  303.000000  303.000000  303.000000  303.000000   \n",
       "mean     0.528053  149.646865    0.326733    1.039604    1.399340    0.729373   \n",
       "std      0.525860   22.905161    0.469794    1.161075    0.616226    1.022606   \n",
       "min      0.000000   71.000000    0.000000    0.000000    0.000000    0.000000   \n",
       "25%      0.000000  133.500000    0.000000    0.000000    1.000000    0.000000   \n",
       "50%      1.000000  153.000000    0.000000    0.800000    1.000000    0.000000   \n",
       "75%      1.000000  166.000000    1.000000    1.600000    2.000000    1.000000   \n",
       "max      2.000000  202.000000    1.000000    6.200000    2.000000    4.000000   \n",
       "\n",
       "             thal      target  \n",
       "count  303.000000  303.000000  \n",
       "mean     2.313531    0.544554  \n",
       "std      0.612277    0.498835  \n",
       "min      0.000000    0.000000  \n",
       "25%      2.000000    0.000000  \n",
       "50%      2.000000    1.000000  \n",
       "75%      3.000000    1.000000  \n",
       "max      3.000000    1.000000  "
      ]
     },
     "execution_count": 5,
     "metadata": {},
     "output_type": "execute_result"
    }
   ],
   "source": [
    "df.describe()"
   ]
  },
  {
   "cell_type": "code",
   "execution_count": 8,
   "id": "dfae925e",
   "metadata": {},
   "outputs": [
    {
     "data": {
      "text/html": [
       "<div>\n",
       "<style scoped>\n",
       "    .dataframe tbody tr th:only-of-type {\n",
       "        vertical-align: middle;\n",
       "    }\n",
       "\n",
       "    .dataframe tbody tr th {\n",
       "        vertical-align: top;\n",
       "    }\n",
       "\n",
       "    .dataframe thead th {\n",
       "        text-align: right;\n",
       "    }\n",
       "</style>\n",
       "<table border=\"1\" class=\"dataframe\">\n",
       "  <thead>\n",
       "    <tr style=\"text-align: right;\">\n",
       "      <th></th>\n",
       "      <th>age</th>\n",
       "      <th>sex</th>\n",
       "      <th>cp</th>\n",
       "      <th>trestbps</th>\n",
       "      <th>chol</th>\n",
       "      <th>fbs</th>\n",
       "      <th>restecg</th>\n",
       "      <th>thalach</th>\n",
       "      <th>exang</th>\n",
       "      <th>oldpeak</th>\n",
       "      <th>slope</th>\n",
       "      <th>ca</th>\n",
       "      <th>thal</th>\n",
       "      <th>target</th>\n",
       "    </tr>\n",
       "  </thead>\n",
       "  <tbody>\n",
       "    <tr>\n",
       "      <th>168</th>\n",
       "      <td>63</td>\n",
       "      <td>1</td>\n",
       "      <td>0</td>\n",
       "      <td>130</td>\n",
       "      <td>254</td>\n",
       "      <td>0</td>\n",
       "      <td>0</td>\n",
       "      <td>147</td>\n",
       "      <td>0</td>\n",
       "      <td>1.4</td>\n",
       "      <td>1</td>\n",
       "      <td>1</td>\n",
       "      <td>3</td>\n",
       "      <td>0</td>\n",
       "    </tr>\n",
       "    <tr>\n",
       "      <th>37</th>\n",
       "      <td>54</td>\n",
       "      <td>1</td>\n",
       "      <td>2</td>\n",
       "      <td>150</td>\n",
       "      <td>232</td>\n",
       "      <td>0</td>\n",
       "      <td>0</td>\n",
       "      <td>165</td>\n",
       "      <td>0</td>\n",
       "      <td>1.6</td>\n",
       "      <td>2</td>\n",
       "      <td>0</td>\n",
       "      <td>3</td>\n",
       "      <td>1</td>\n",
       "    </tr>\n",
       "    <tr>\n",
       "      <th>82</th>\n",
       "      <td>60</td>\n",
       "      <td>0</td>\n",
       "      <td>2</td>\n",
       "      <td>102</td>\n",
       "      <td>318</td>\n",
       "      <td>0</td>\n",
       "      <td>1</td>\n",
       "      <td>160</td>\n",
       "      <td>0</td>\n",
       "      <td>0.0</td>\n",
       "      <td>2</td>\n",
       "      <td>1</td>\n",
       "      <td>2</td>\n",
       "      <td>1</td>\n",
       "    </tr>\n",
       "    <tr>\n",
       "      <th>167</th>\n",
       "      <td>62</td>\n",
       "      <td>0</td>\n",
       "      <td>0</td>\n",
       "      <td>140</td>\n",
       "      <td>268</td>\n",
       "      <td>0</td>\n",
       "      <td>0</td>\n",
       "      <td>160</td>\n",
       "      <td>0</td>\n",
       "      <td>3.6</td>\n",
       "      <td>0</td>\n",
       "      <td>2</td>\n",
       "      <td>2</td>\n",
       "      <td>0</td>\n",
       "    </tr>\n",
       "    <tr>\n",
       "      <th>112</th>\n",
       "      <td>64</td>\n",
       "      <td>0</td>\n",
       "      <td>2</td>\n",
       "      <td>140</td>\n",
       "      <td>313</td>\n",
       "      <td>0</td>\n",
       "      <td>1</td>\n",
       "      <td>133</td>\n",
       "      <td>0</td>\n",
       "      <td>0.2</td>\n",
       "      <td>2</td>\n",
       "      <td>0</td>\n",
       "      <td>3</td>\n",
       "      <td>1</td>\n",
       "    </tr>\n",
       "  </tbody>\n",
       "</table>\n",
       "</div>"
      ],
      "text/plain": [
       "     age  sex  cp  trestbps  chol  fbs  restecg  thalach  exang  oldpeak  \\\n",
       "168   63    1   0       130   254    0        0      147      0      1.4   \n",
       "37    54    1   2       150   232    0        0      165      0      1.6   \n",
       "82    60    0   2       102   318    0        1      160      0      0.0   \n",
       "167   62    0   0       140   268    0        0      160      0      3.6   \n",
       "112   64    0   2       140   313    0        1      133      0      0.2   \n",
       "\n",
       "     slope  ca  thal  target  \n",
       "168      1   1     3       0  \n",
       "37       2   0     3       1  \n",
       "82       2   1     2       1  \n",
       "167      0   2     2       0  \n",
       "112      2   0     3       1  "
      ]
     },
     "execution_count": 8,
     "metadata": {},
     "output_type": "execute_result"
    }
   ],
   "source": [
    "df.sample(5)"
   ]
  },
  {
   "cell_type": "markdown",
   "id": "f2a36600-600d-4f9a-9581-54f7a7aa5c50",
   "metadata": {},
   "source": [
    "# Visulazations"
   ]
  },
  {
   "cell_type": "code",
   "execution_count": 11,
   "id": "182d822e",
   "metadata": {},
   "outputs": [
    {
     "data": {
      "text/plain": [
       "<AxesSubplot:>"
      ]
     },
     "execution_count": 11,
     "metadata": {},
     "output_type": "execute_result"
    },
    {
     "data": {
      "image/png": "[encoded data removed]",
      "text/plain": [
       "<Figure size 432x288 with 1 Axes>"
      ]
     },
     "metadata": {
      "needs_background": "light"
     },
     "output_type": "display_data"
    }
   ],
   "source": [
    "df.corr()['target'].drop('target').sort_values().plot.barh()"
   ]
  },
  {
   "cell_type": "code",
   "execution_count": 14,
   "id": "33e5dcf1",
   "metadata": {},
   "outputs": [
    {
     "data": {
      "image/png": "[encoded data removed]",
      "text/plain": [
       "<Figure size 1080x576 with 2 Axes>"
      ]
     },
     "metadata": {
      "needs_background": "light"
     },
     "output_type": "display_data"
    }
   ],
   "source": [
    "plt.figure(figsize= (15, 8))\n",
    "sns.heatmap(df.corr(), annot = True, cmap = \"viridis\")\n",
    "plt.show()"
   ]
  },
  {
   "cell_type": "code",
   "execution_count": 15,
   "id": "8a9a3f13",
   "metadata": {},
   "outputs": [
    {
     "data": {
      "text/plain": [
       "1    165\n",
       "0    138\n",
       "Name: target, dtype: int64"
      ]
     },
     "execution_count": 15,
     "metadata": {},
     "output_type": "execute_result"
    }
   ],
   "source": [
    "df.target.value_counts()"
   ]
  },
  {
   "cell_type": "code",
   "execution_count": 18,
   "id": "76f1ebf4",
   "metadata": {},
   "outputs": [
    {
     "data": {
      "image/png": "[encoded data removed]",
      "text/plain": [
       "<Figure size 432x288 with 1 Axes>"
      ]
     },
     "metadata": {
      "needs_background": "light"
     },
     "output_type": "display_data"
    }
   ],
   "source": [
    "colors = [\"green\", \"red\"]\n",
    "sns.countplot(df.target, palette= colors)\n",
    "plt.show()"
   ]
  },
  {
   "cell_type": "code",
   "execution_count": 31,
   "id": "964c6789",
   "metadata": {},
   "outputs": [
    {
     "data": {
      "image/png": "[encoded data removed]",
      "text/plain": [
       "<Figure size 504x504 with 1 Axes>"
      ]
     },
     "metadata": {},
     "output_type": "display_data"
    }
   ],
   "source": [
    "labels = df.target.value_counts().index\n",
    "explode = [0, 0]\n",
    "sizes = df.target.value_counts().values\n",
    "\n",
    "# visual\n",
    "plt.figure(figsize= (7, 7))\n",
    "plt.pie(sizes, explode= explode, labels= labels, colors= [\"red\", \"green\"], autopct = \"%1.1f%%\")\n",
    "plt.title(\"Percentage of diagnosis cancers\", color = \"blue\", fontsize = 15)\n",
    "plt.show()"
   ]
  },
  {
   "cell_type": "code",
   "execution_count": 36,
   "id": "10381d7e",
   "metadata": {},
   "outputs": [
    {
     "data": {
      "image/png": "[encoded data removed]",
      "text/plain": [
       "<Figure size 1008x432 with 1 Axes>"
      ]
     },
     "metadata": {
      "needs_background": "light"
     },
     "output_type": "display_data"
    }
   ],
   "source": [
    "plt.figure(figsize= (14, 6))\n",
    "sns.violinplot(x= df[\"target\"], y= df[\"cp\"])\n",
    "plt.title('cp values')\n",
    "plt.show()"
   ]
  },
  {
   "cell_type": "code",
   "execution_count": 37,
   "id": "8bcf047e",
   "metadata": {},
   "outputs": [
    {
     "data": {
      "text/plain": [
       "<function matplotlib.pyplot.show(close=None, block=None)>"
      ]
     },
     "execution_count": 37,
     "metadata": {},
     "output_type": "execute_result"
    },
    {
     "data": {
      "image/png": "[encoded data removed]",
      "text/plain": [
       "<Figure size 1008x432 with 1 Axes>"
      ]
     },
     "metadata": {
      "needs_background": "light"
     },
     "output_type": "display_data"
    }
   ],
   "source": [
    "plt.figure(figsize= (14, 6))\n",
    "sns.swarmplot(x= df[\"target\"], y= df[\"exang\"])\n",
    "plt.title('exang values')\n",
    "plt.show"
   ]
  },
  {
   "cell_type": "code",
   "execution_count": null,
   "id": "86c32711",
   "metadata": {},
   "outputs": [],
   "source": []
  },
  {
   "cell_type": "markdown",
   "id": "d8d33e28-a8ec-4913-832f-ade23d780a55",
   "metadata": {},
   "source": [
    "# Statistical Analysis"
   ]
  },
  {
   "cell_type": "code",
   "execution_count": null,
   "id": "fca9e1d2",
   "metadata": {},
   "outputs": [],
   "source": []
  },
  {
   "cell_type": "markdown",
   "id": "22f9cff7-63d2-485f-b8a0-3a40887c46e2",
   "metadata": {},
   "source": [
    "# Determine Dependent and Independent Variables"
   ]
  },
  {
   "cell_type": "code",
   "execution_count": 49,
   "id": "97886c0d",
   "metadata": {},
   "outputs": [],
   "source": [
    "X = df.drop((\"target\"), axis= 1)\n",
    "y = df[\"target\"]"
   ]
  },
  {
   "cell_type": "markdown",
   "id": "196c998f-9bdf-4e15-9406-b07791a15809",
   "metadata": {},
   "source": [
    "# 1. SVM Classification"
   ]
  },
  {
   "cell_type": "markdown",
   "id": "66751c51-7a21-4310-84ae-a7f1512370a7",
   "metadata": {},
   "source": [
    "## Train - Test Split"
   ]
  },
  {
   "cell_type": "code",
   "execution_count": 396,
   "id": "2f635797",
   "metadata": {},
   "outputs": [],
   "source": [
    "from sklearn.model_selection import train_test_split\n",
    "X_train, X_test, y_train, y_test = train_test_split(X, y, test_size= 0.30, random_state= 99)"
   ]
  },
  {
   "cell_type": "code",
   "execution_count": 397,
   "id": "ccc284ca",
   "metadata": {},
   "outputs": [
    {
     "name": "stdout",
     "output_type": "stream",
     "text": [
      "x_train: (212, 13)\n",
      "x_test: (91, 13)\n",
      "y_train: (212,)\n",
      "y_test: (91,)\n"
     ]
    }
   ],
   "source": [
    "print(\"x_train: {}\\nx_test: {}\\ny_train: {}\\ny_test: {}\".format(X_train.shape, X_test.shape, y_train.shape, y_test.shape))"
   ]
  },
  {
   "cell_type": "markdown",
   "id": "dad547f5",
   "metadata": {},
   "source": [
    "# Scaling the Data"
   ]
  },
  {
   "cell_type": "code",
   "execution_count": 398,
   "id": "029477e8",
   "metadata": {},
   "outputs": [],
   "source": [
    "from sklearn.preprocessing import MinMaxScaler\n",
    "sc = MinMaxScaler()"
   ]
  },
  {
   "cell_type": "code",
   "execution_count": 399,
   "id": "1013af53",
   "metadata": {},
   "outputs": [],
   "source": [
    "X_train = sc.fit_transform(X_train)\n",
    "X_test = sc.transform(X_test)\n"
   ]
  },
  {
   "cell_type": "markdown",
   "id": "09b69349-84e3-4306-8832-37fcf0d2b037",
   "metadata": {},
   "source": [
    "## Model Fitting and Compare Actual and Predicted Labels"
   ]
  },
  {
   "cell_type": "code",
   "execution_count": 400,
   "id": "056be112",
   "metadata": {},
   "outputs": [],
   "source": [
    "from sklearn.svm import SVC\n"
   ]
  },
  {
   "cell_type": "code",
   "execution_count": 401,
   "id": "3fcc1d0c",
   "metadata": {},
   "outputs": [],
   "source": [
    "svr_model = SVC()"
   ]
  },
  {
   "cell_type": "code",
   "execution_count": 402,
   "id": "6fd04bd3",
   "metadata": {},
   "outputs": [
    {
     "data": {
      "text/plain": [
       "SVC()"
      ]
     },
     "execution_count": 402,
     "metadata": {},
     "output_type": "execute_result"
    }
   ],
   "source": [
    "svr_model.fit(X_train, y_train)"
   ]
  },
  {
   "cell_type": "code",
   "execution_count": 403,
   "id": "914864f7",
   "metadata": {},
   "outputs": [],
   "source": [
    "y_pred = svr_model.predict(X_test)\n",
    "y_train_pred = svr_model.predict(X_train)\n"
   ]
  },
  {
   "cell_type": "markdown",
   "id": "2339687a-20f2-4b8c-bfff-ce9b79af3480",
   "metadata": {},
   "source": [
    "## Error Metrics"
   ]
  },
  {
   "cell_type": "code",
   "execution_count": 404,
   "id": "7ae4f4ec",
   "metadata": {},
   "outputs": [],
   "source": [
    "from sklearn.metrics import precision_score, recall_score, accuracy_score, f1_score,confusion_matrix, classification_report"
   ]
  },
  {
   "cell_type": "markdown",
   "id": "aab6d533",
   "metadata": {},
   "source": [
    "## Evaluate Model"
   ]
  },
  {
   "cell_type": "code",
   "execution_count": 405,
   "id": "2376e0eb",
   "metadata": {},
   "outputs": [
    {
     "name": "stdout",
     "output_type": "stream",
     "text": [
      "              precision    recall  f1-score   support\n",
      "\n",
      "           0       0.89      0.84      0.86       106\n",
      "           1       0.85      0.90      0.87       106\n",
      "\n",
      "    accuracy                           0.87       212\n",
      "   macro avg       0.87      0.87      0.87       212\n",
      "weighted avg       0.87      0.87      0.87       212\n",
      "\n"
     ]
    }
   ],
   "source": [
    "print(classification_report(y_train, y_train_pred))"
   ]
  },
  {
   "cell_type": "code",
   "execution_count": 406,
   "id": "69f72589",
   "metadata": {},
   "outputs": [
    {
     "name": "stdout",
     "output_type": "stream",
     "text": [
      "              precision    recall  f1-score   support\n",
      "\n",
      "           0       0.81      0.81      0.81        32\n",
      "           1       0.90      0.90      0.90        59\n",
      "\n",
      "    accuracy                           0.87        91\n",
      "   macro avg       0.86      0.86      0.86        91\n",
      "weighted avg       0.87      0.87      0.87        91\n",
      "\n"
     ]
    }
   ],
   "source": [
    "print(classification_report(y_test, y_pred))"
   ]
  },
  {
   "cell_type": "code",
   "execution_count": 407,
   "id": "da7fba76",
   "metadata": {},
   "outputs": [],
   "source": [
    "svc_scores = {\"svc_train\": {\"accuracy\" : accuracy_score(y_train, y_train_pred),\n",
    "    \"precision_score\" : precision_score(y_train, y_train_pred,average = \"weighted\"),\n",
    "    \"recall_score\" : recall_score(y_train, y_train_pred,average = \"weighted\"),\n",
    "    \"f1_score\" : f1_score(y_train, y_train_pred, average = \"weighted\"),}, \n",
    "\n",
    "    \"svc_test\": {\"accuracy\" : accuracy_score(y_test, y_pred),\n",
    "    \"precision_score\" : precision_score(y_test, y_pred,average = \"weighted\"),\n",
    "    \"recall_score\" : recall_score(y_test, y_pred, average = \"weighted\"),\n",
    "    \"f1_score\" : f1_score(y_test, y_pred, average = \"weighted\")\n",
    "   }}\n",
    "svc =pd.DataFrame(svc_scores)"
   ]
  },
  {
   "cell_type": "code",
   "execution_count": 408,
   "id": "f65afb8b",
   "metadata": {},
   "outputs": [
    {
     "data": {
      "text/html": [
       "<div>\n",
       "<style scoped>\n",
       "    .dataframe tbody tr th:only-of-type {\n",
       "        vertical-align: middle;\n",
       "    }\n",
       "\n",
       "    .dataframe tbody tr th {\n",
       "        vertical-align: top;\n",
       "    }\n",
       "\n",
       "    .dataframe thead th {\n",
       "        text-align: right;\n",
       "    }\n",
       "</style>\n",
       "<table border=\"1\" class=\"dataframe\">\n",
       "  <thead>\n",
       "    <tr style=\"text-align: right;\">\n",
       "      <th></th>\n",
       "      <th>svc_train</th>\n",
       "      <th>svc_test</th>\n",
       "    </tr>\n",
       "  </thead>\n",
       "  <tbody>\n",
       "    <tr>\n",
       "      <th>accuracy</th>\n",
       "      <td>0.87</td>\n",
       "      <td>0.87</td>\n",
       "    </tr>\n",
       "    <tr>\n",
       "      <th>precision_score</th>\n",
       "      <td>0.87</td>\n",
       "      <td>0.87</td>\n",
       "    </tr>\n",
       "    <tr>\n",
       "      <th>recall_score</th>\n",
       "      <td>0.87</td>\n",
       "      <td>0.87</td>\n",
       "    </tr>\n",
       "    <tr>\n",
       "      <th>f1_score</th>\n",
       "      <td>0.87</td>\n",
       "      <td>0.87</td>\n",
       "    </tr>\n",
       "  </tbody>\n",
       "</table>\n",
       "</div>"
      ],
      "text/plain": [
       "                 svc_train  svc_test\n",
       "accuracy              0.87      0.87\n",
       "precision_score       0.87      0.87\n",
       "recall_score          0.87      0.87\n",
       "f1_score              0.87      0.87"
      ]
     },
     "execution_count": 408,
     "metadata": {},
     "output_type": "execute_result"
    }
   ],
   "source": [
    "svc"
   ]
  },
  {
   "cell_type": "markdown",
   "id": "bf23f7ac",
   "metadata": {},
   "source": [
    "# SVC GridsearchCV "
   ]
  },
  {
   "cell_type": "code",
   "execution_count": 409,
   "id": "ecea20cb",
   "metadata": {},
   "outputs": [],
   "source": [
    "from sklearn.model_selection import GridSearchCV"
   ]
  },
  {
   "cell_type": "code",
   "execution_count": 410,
   "id": "d35bbe35",
   "metadata": {},
   "outputs": [],
   "source": [
    "param_grid = {'C':[1, 10, 20, 30,50, 70, 100, 1000],\n",
    "             'kernel':['linear','rbf','poly','sigmoid'],\n",
    "            'gamma': [1e-3, 1e-4]}"
   ]
  },
  {
   "cell_type": "code",
   "execution_count": 411,
   "id": "dcb17462",
   "metadata": {},
   "outputs": [],
   "source": [
    "model = SVC()"
   ]
  },
  {
   "cell_type": "code",
   "execution_count": 412,
   "id": "34efc89f",
   "metadata": {},
   "outputs": [],
   "source": [
    "svc_grid_model = GridSearchCV(estimator=model, param_grid=param_grid, verbose = 3, cv=5)"
   ]
  },
  {
   "cell_type": "code",
   "execution_count": 413,
   "id": "b4f90f73",
   "metadata": {},
   "outputs": [
    {
     "name": "stdout",
     "output_type": "stream",
     "text": [
      "Fitting 5 folds for each of 64 candidates, totalling 320 fits\n",
      "[CV 1/5] END ................C=1, gamma=0.001, kernel=linear; total time=   0.0s\n",
      "[CV 2/5] END ................C=1, gamma=0.001, kernel=linear; total time=   0.0s\n",
      "[CV 3/5] END ................C=1, gamma=0.001, kernel=linear; total time=   0.0s\n",
      "[CV 4/5] END ................C=1, gamma=0.001, kernel=linear; total time=   0.0s\n",
      "[CV 5/5] END ................C=1, gamma=0.001, kernel=linear; total time=   0.0s\n",
      "[CV 1/5] END ...................C=1, gamma=0.001, kernel=rbf; total time=   0.0s\n",
      "[CV 2/5] END ...................C=1, gamma=0.001, kernel=rbf; total time=   0.0s\n",
      "[CV 3/5] END ...................C=1, gamma=0.001, kernel=rbf; total time=   0.0s\n",
      "[CV 4/5] END ...................C=1, gamma=0.001, kernel=rbf; total time=   0.0s\n",
      "[CV 5/5] END ...................C=1, gamma=0.001, kernel=rbf; total time=   0.0s\n",
      "[CV 1/5] END ..................C=1, gamma=0.001, kernel=poly; total time=   0.0s\n",
      "[CV 2/5] END ..................C=1, gamma=0.001, kernel=poly; total time=   0.0s\n",
      "[CV 3/5] END ..................C=1, gamma=0.001, kernel=poly; total time=   0.0s\n",
      "[CV 4/5] END ..................C=1, gamma=0.001, kernel=poly; total time=   0.0s\n",
      "[CV 5/5] END ..................C=1, gamma=0.001, kernel=poly; total time=   0.0s\n",
      "[CV 1/5] END ...............C=1, gamma=0.001, kernel=sigmoid; total time=   0.0s\n",
      "[CV 2/5] END ...............C=1, gamma=0.001, kernel=sigmoid; total time=   0.0s\n",
      "[CV 3/5] END ...............C=1, gamma=0.001, kernel=sigmoid; total time=   0.0s\n",
      "[CV 4/5] END ...............C=1, gamma=0.001, kernel=sigmoid; total time=   0.0s\n",
      "[CV 5/5] END ...............C=1, gamma=0.001, kernel=sigmoid; total time=   0.0s\n",
      "[CV 1/5] END ...............C=1, gamma=0.0001, kernel=linear; total time=   0.0s\n",
      "[CV 2/5] END ...............C=1, gamma=0.0001, kernel=linear; total time=   0.0s\n",
      "[CV 3/5] END ...............C=1, gamma=0.0001, kernel=linear; total time=   0.0s\n",
      "[CV 4/5] END ...............C=1, gamma=0.0001, kernel=linear; total time=   0.0s\n",
      "[CV 5/5] END ...............C=1, gamma=0.0001, kernel=linear; total time=   0.0s\n",
      "[CV 1/5] END ..................C=1, gamma=0.0001, kernel=rbf; total time=   0.0s\n",
      "[CV 2/5] END ..................C=1, gamma=0.0001, kernel=rbf; total time=   0.0s\n",
      "[CV 3/5] END ..................C=1, gamma=0.0001, kernel=rbf; total time=   0.0s\n",
      "[CV 4/5] END ..................C=1, gamma=0.0001, kernel=rbf; total time=   0.0s\n",
      "[CV 5/5] END ..................C=1, gamma=0.0001, kernel=rbf; total time=   0.0s\n",
      "[CV 1/5] END .................C=1, gamma=0.0001, kernel=poly; total time=   0.0s\n",
      "[CV 2/5] END .................C=1, gamma=0.0001, kernel=poly; total time=   0.0s\n",
      "[CV 3/5] END .................C=1, gamma=0.0001, kernel=poly; total time=   0.0s\n",
      "[CV 4/5] END .................C=1, gamma=0.0001, kernel=poly; total time=   0.0s\n",
      "[CV 5/5] END .................C=1, gamma=0.0001, kernel=poly; total time=   0.0s\n",
      "[CV 1/5] END ..............C=1, gamma=0.0001, kernel=sigmoid; total time=   0.0s\n",
      "[CV 2/5] END ..............C=1, gamma=0.0001, kernel=sigmoid; total time=   0.0s\n",
      "[CV 3/5] END ..............C=1, gamma=0.0001, kernel=sigmoid; total time=   0.0s\n",
      "[CV 4/5] END ..............C=1, gamma=0.0001, kernel=sigmoid; total time=   0.0s\n",
      "[CV 5/5] END ..............C=1, gamma=0.0001, kernel=sigmoid; total time=   0.0s\n",
      "[CV 1/5] END ...............C=10, gamma=0.001, kernel=linear; total time=   0.0s\n",
      "[CV 2/5] END ...............C=10, gamma=0.001, kernel=linear; total time=   0.0s\n",
      "[CV 3/5] END ...............C=10, gamma=0.001, kernel=linear; total time=   0.0s\n",
      "[CV 4/5] END ...............C=10, gamma=0.001, kernel=linear; total time=   0.0s\n",
      "[CV 5/5] END ...............C=10, gamma=0.001, kernel=linear; total time=   0.0s\n",
      "[CV 1/5] END ..................C=10, gamma=0.001, kernel=rbf; total time=   0.0s\n",
      "[CV 2/5] END ..................C=10, gamma=0.001, kernel=rbf; total time=   0.0s\n",
      "[CV 3/5] END ..................C=10, gamma=0.001, kernel=rbf; total time=   0.0s\n",
      "[CV 4/5] END ..................C=10, gamma=0.001, kernel=rbf; total time=   0.0s\n",
      "[CV 5/5] END ..................C=10, gamma=0.001, kernel=rbf; total time=   0.0s\n",
      "[CV 1/5] END .................C=10, gamma=0.001, kernel=poly; total time=   0.0s\n",
      "[CV 2/5] END .................C=10, gamma=0.001, kernel=poly; total time=   0.0s\n",
      "[CV 3/5] END .................C=10, gamma=0.001, kernel=poly; total time=   0.0s\n",
      "[CV 4/5] END .................C=10, gamma=0.001, kernel=poly; total time=   0.0s\n",
      "[CV 5/5] END .................C=10, gamma=0.001, kernel=poly; total time=   0.0s\n",
      "[CV 1/5] END ..............C=10, gamma=0.001, kernel=sigmoid; total time=   0.0s\n",
      "[CV 2/5] END ..............C=10, gamma=0.001, kernel=sigmoid; total time=   0.0s\n",
      "[CV 3/5] END ..............C=10, gamma=0.001, kernel=sigmoid; total time=   0.0s\n",
      "[CV 4/5] END ..............C=10, gamma=0.001, kernel=sigmoid; total time=   0.0s\n",
      "[CV 5/5] END ..............C=10, gamma=0.001, kernel=sigmoid; total time=   0.0s\n",
      "[CV 1/5] END ..............C=10, gamma=0.0001, kernel=linear; total time=   0.0s\n",
      "[CV 2/5] END ..............C=10, gamma=0.0001, kernel=linear; total time=   0.0s\n",
      "[CV 3/5] END ..............C=10, gamma=0.0001, kernel=linear; total time=   0.0s\n",
      "[CV 4/5] END ..............C=10, gamma=0.0001, kernel=linear; total time=   0.0s\n",
      "[CV 5/5] END ..............C=10, gamma=0.0001, kernel=linear; total time=   0.0s\n",
      "[CV 1/5] END .................C=10, gamma=0.0001, kernel=rbf; total time=   0.0s\n",
      "[CV 2/5] END .................C=10, gamma=0.0001, kernel=rbf; total time=   0.0s\n",
      "[CV 3/5] END .................C=10, gamma=0.0001, kernel=rbf; total time=   0.0s\n",
      "[CV 4/5] END .................C=10, gamma=0.0001, kernel=rbf; total time=   0.0s\n",
      "[CV 5/5] END .................C=10, gamma=0.0001, kernel=rbf; total time=   0.0s\n",
      "[CV 1/5] END ................C=10, gamma=0.0001, kernel=poly; total time=   0.0s\n",
      "[CV 2/5] END ................C=10, gamma=0.0001, kernel=poly; total time=   0.0s\n",
      "[CV 3/5] END ................C=10, gamma=0.0001, kernel=poly; total time=   0.0s\n",
      "[CV 4/5] END ................C=10, gamma=0.0001, kernel=poly; total time=   0.0s\n",
      "[CV 5/5] END ................C=10, gamma=0.0001, kernel=poly; total time=   0.0s\n",
      "[CV 1/5] END .............C=10, gamma=0.0001, kernel=sigmoid; total time=   0.0s\n",
      "[CV 2/5] END .............C=10, gamma=0.0001, kernel=sigmoid; total time=   0.0s\n",
      "[CV 3/5] END .............C=10, gamma=0.0001, kernel=sigmoid; total time=   0.0s\n",
      "[CV 4/5] END .............C=10, gamma=0.0001, kernel=sigmoid; total time=   0.0s\n",
      "[CV 5/5] END .............C=10, gamma=0.0001, kernel=sigmoid; total time=   0.0s\n",
      "[CV 1/5] END ...............C=20, gamma=0.001, kernel=linear; total time=   0.0s\n",
      "[CV 2/5] END ...............C=20, gamma=0.001, kernel=linear; total time=   0.0s\n",
      "[CV 3/5] END ...............C=20, gamma=0.001, kernel=linear; total time=   0.0s\n",
      "[CV 4/5] END ...............C=20, gamma=0.001, kernel=linear; total time=   0.0s\n",
      "[CV 5/5] END ...............C=20, gamma=0.001, kernel=linear; total time=   0.0s\n",
      "[CV 1/5] END ..................C=20, gamma=0.001, kernel=rbf; total time=   0.0s\n",
      "[CV 2/5] END ..................C=20, gamma=0.001, kernel=rbf; total time=   0.0s\n",
      "[CV 3/5] END ..................C=20, gamma=0.001, kernel=rbf; total time=   0.0s\n",
      "[CV 4/5] END ..................C=20, gamma=0.001, kernel=rbf; total time=   0.0s\n",
      "[CV 5/5] END ..................C=20, gamma=0.001, kernel=rbf; total time=   0.0s\n",
      "[CV 1/5] END .................C=20, gamma=0.001, kernel=poly; total time=   0.0s\n",
      "[CV 2/5] END .................C=20, gamma=0.001, kernel=poly; total time=   0.0s\n",
      "[CV 3/5] END .................C=20, gamma=0.001, kernel=poly; total time=   0.0s\n",
      "[CV 4/5] END .................C=20, gamma=0.001, kernel=poly; total time=   0.0s\n",
      "[CV 5/5] END .................C=20, gamma=0.001, kernel=poly; total time=   0.0s\n",
      "[CV 1/5] END ..............C=20, gamma=0.001, kernel=sigmoid; total time=   0.0s\n",
      "[CV 2/5] END ..............C=20, gamma=0.001, kernel=sigmoid; total time=   0.0s\n",
      "[CV 3/5] END ..............C=20, gamma=0.001, kernel=sigmoid; total time=   0.0s\n",
      "[CV 4/5] END ..............C=20, gamma=0.001, kernel=sigmoid; total time=   0.0s\n",
      "[CV 5/5] END ..............C=20, gamma=0.001, kernel=sigmoid; total time=   0.0s\n",
      "[CV 1/5] END ..............C=20, gamma=0.0001, kernel=linear; total time=   0.0s\n",
      "[CV 2/5] END ..............C=20, gamma=0.0001, kernel=linear; total time=   0.0s\n",
      "[CV 3/5] END ..............C=20, gamma=0.0001, kernel=linear; total time=   0.0s\n",
      "[CV 4/5] END ..............C=20, gamma=0.0001, kernel=linear; total time=   0.0s\n",
      "[CV 5/5] END ..............C=20, gamma=0.0001, kernel=linear; total time=   0.0s\n",
      "[CV 1/5] END .................C=20, gamma=0.0001, kernel=rbf; total time=   0.0s\n",
      "[CV 2/5] END .................C=20, gamma=0.0001, kernel=rbf; total time=   0.0s\n",
      "[CV 3/5] END .................C=20, gamma=0.0001, kernel=rbf; total time=   0.0s\n",
      "[CV 4/5] END .................C=20, gamma=0.0001, kernel=rbf; total time=   0.0s\n",
      "[CV 5/5] END .................C=20, gamma=0.0001, kernel=rbf; total time=   0.0s\n",
      "[CV 1/5] END ................C=20, gamma=0.0001, kernel=poly; total time=   0.0s\n",
      "[CV 2/5] END ................C=20, gamma=0.0001, kernel=poly; total time=   0.0s\n",
      "[CV 3/5] END ................C=20, gamma=0.0001, kernel=poly; total time=   0.0s\n",
      "[CV 4/5] END ................C=20, gamma=0.0001, kernel=poly; total time=   0.0s\n",
      "[CV 5/5] END ................C=20, gamma=0.0001, kernel=poly; total time=   0.0s\n",
      "[CV 1/5] END .............C=20, gamma=0.0001, kernel=sigmoid; total time=   0.0s\n",
      "[CV 2/5] END .............C=20, gamma=0.0001, kernel=sigmoid; total time=   0.0s\n",
      "[CV 3/5] END .............C=20, gamma=0.0001, kernel=sigmoid; total time=   0.0s\n",
      "[CV 4/5] END .............C=20, gamma=0.0001, kernel=sigmoid; total time=   0.0s\n",
      "[CV 5/5] END .............C=20, gamma=0.0001, kernel=sigmoid; total time=   0.0s\n",
      "[CV 1/5] END ...............C=30, gamma=0.001, kernel=linear; total time=   0.0s\n"
     ]
    },
    {
     "name": "stdout",
     "output_type": "stream",
     "text": [
      "[CV 2/5] END ...............C=30, gamma=0.001, kernel=linear; total time=   0.0s\n",
      "[CV 3/5] END ...............C=30, gamma=0.001, kernel=linear; total time=   0.0s\n",
      "[CV 4/5] END ...............C=30, gamma=0.001, kernel=linear; total time=   0.0s\n",
      "[CV 5/5] END ...............C=30, gamma=0.001, kernel=linear; total time=   0.0s\n",
      "[CV 1/5] END ..................C=30, gamma=0.001, kernel=rbf; total time=   0.0s\n",
      "[CV 2/5] END ..................C=30, gamma=0.001, kernel=rbf; total time=   0.0s\n",
      "[CV 3/5] END ..................C=30, gamma=0.001, kernel=rbf; total time=   0.0s\n",
      "[CV 4/5] END ..................C=30, gamma=0.001, kernel=rbf; total time=   0.0s\n",
      "[CV 5/5] END ..................C=30, gamma=0.001, kernel=rbf; total time=   0.0s\n",
      "[CV 1/5] END .................C=30, gamma=0.001, kernel=poly; total time=   0.0s\n",
      "[CV 2/5] END .................C=30, gamma=0.001, kernel=poly; total time=   0.0s\n",
      "[CV 3/5] END .................C=30, gamma=0.001, kernel=poly; total time=   0.0s\n",
      "[CV 4/5] END .................C=30, gamma=0.001, kernel=poly; total time=   0.0s\n",
      "[CV 5/5] END .................C=30, gamma=0.001, kernel=poly; total time=   0.0s\n",
      "[CV 1/5] END ..............C=30, gamma=0.001, kernel=sigmoid; total time=   0.0s\n",
      "[CV 2/5] END ..............C=30, gamma=0.001, kernel=sigmoid; total time=   0.0s\n",
      "[CV 3/5] END ..............C=30, gamma=0.001, kernel=sigmoid; total time=   0.0s\n",
      "[CV 4/5] END ..............C=30, gamma=0.001, kernel=sigmoid; total time=   0.0s\n",
      "[CV 5/5] END ..............C=30, gamma=0.001, kernel=sigmoid; total time=   0.0s\n",
      "[CV 1/5] END ..............C=30, gamma=0.0001, kernel=linear; total time=   0.0s\n",
      "[CV 2/5] END ..............C=30, gamma=0.0001, kernel=linear; total time=   0.0s\n",
      "[CV 3/5] END ..............C=30, gamma=0.0001, kernel=linear; total time=   0.0s\n",
      "[CV 4/5] END ..............C=30, gamma=0.0001, kernel=linear; total time=   0.0s\n",
      "[CV 5/5] END ..............C=30, gamma=0.0001, kernel=linear; total time=   0.0s\n",
      "[CV 1/5] END .................C=30, gamma=0.0001, kernel=rbf; total time=   0.0s\n",
      "[CV 2/5] END .................C=30, gamma=0.0001, kernel=rbf; total time=   0.0s\n",
      "[CV 3/5] END .................C=30, gamma=0.0001, kernel=rbf; total time=   0.0s\n",
      "[CV 4/5] END .................C=30, gamma=0.0001, kernel=rbf; total time=   0.0s\n",
      "[CV 5/5] END .................C=30, gamma=0.0001, kernel=rbf; total time=   0.0s\n",
      "[CV 1/5] END ................C=30, gamma=0.0001, kernel=poly; total time=   0.0s\n",
      "[CV 2/5] END ................C=30, gamma=0.0001, kernel=poly; total time=   0.0s\n",
      "[CV 3/5] END ................C=30, gamma=0.0001, kernel=poly; total time=   0.0s\n",
      "[CV 4/5] END ................C=30, gamma=0.0001, kernel=poly; total time=   0.0s\n",
      "[CV 5/5] END ................C=30, gamma=0.0001, kernel=poly; total time=   0.0s\n",
      "[CV 1/5] END .............C=30, gamma=0.0001, kernel=sigmoid; total time=   0.0s\n",
      "[CV 2/5] END .............C=30, gamma=0.0001, kernel=sigmoid; total time=   0.0s\n",
      "[CV 3/5] END .............C=30, gamma=0.0001, kernel=sigmoid; total time=   0.0s\n",
      "[CV 4/5] END .............C=30, gamma=0.0001, kernel=sigmoid; total time=   0.0s\n",
      "[CV 5/5] END .............C=30, gamma=0.0001, kernel=sigmoid; total time=   0.0s\n",
      "[CV 1/5] END ...............C=50, gamma=0.001, kernel=linear; total time=   0.0s\n",
      "[CV 2/5] END ...............C=50, gamma=0.001, kernel=linear; total time=   0.0s\n",
      "[CV 3/5] END ...............C=50, gamma=0.001, kernel=linear; total time=   0.0s\n",
      "[CV 4/5] END ...............C=50, gamma=0.001, kernel=linear; total time=   0.0s\n",
      "[CV 5/5] END ...............C=50, gamma=0.001, kernel=linear; total time=   0.0s\n",
      "[CV 1/5] END ..................C=50, gamma=0.001, kernel=rbf; total time=   0.0s\n",
      "[CV 2/5] END ..................C=50, gamma=0.001, kernel=rbf; total time=   0.0s\n",
      "[CV 3/5] END ..................C=50, gamma=0.001, kernel=rbf; total time=   0.0s\n",
      "[CV 4/5] END ..................C=50, gamma=0.001, kernel=rbf; total time=   0.0s\n",
      "[CV 5/5] END ..................C=50, gamma=0.001, kernel=rbf; total time=   0.0s\n",
      "[CV 1/5] END .................C=50, gamma=0.001, kernel=poly; total time=   0.0s\n",
      "[CV 2/5] END .................C=50, gamma=0.001, kernel=poly; total time=   0.0s\n",
      "[CV 3/5] END .................C=50, gamma=0.001, kernel=poly; total time=   0.0s\n",
      "[CV 4/5] END .................C=50, gamma=0.001, kernel=poly; total time=   0.0s\n",
      "[CV 5/5] END .................C=50, gamma=0.001, kernel=poly; total time=   0.0s\n",
      "[CV 1/5] END ..............C=50, gamma=0.001, kernel=sigmoid; total time=   0.0s\n",
      "[CV 2/5] END ..............C=50, gamma=0.001, kernel=sigmoid; total time=   0.0s\n",
      "[CV 3/5] END ..............C=50, gamma=0.001, kernel=sigmoid; total time=   0.0s\n",
      "[CV 4/5] END ..............C=50, gamma=0.001, kernel=sigmoid; total time=   0.0s\n",
      "[CV 5/5] END ..............C=50, gamma=0.001, kernel=sigmoid; total time=   0.0s\n",
      "[CV 1/5] END ..............C=50, gamma=0.0001, kernel=linear; total time=   0.0s\n",
      "[CV 2/5] END ..............C=50, gamma=0.0001, kernel=linear; total time=   0.0s\n",
      "[CV 3/5] END ..............C=50, gamma=0.0001, kernel=linear; total time=   0.0s\n",
      "[CV 4/5] END ..............C=50, gamma=0.0001, kernel=linear; total time=   0.0s\n",
      "[CV 5/5] END ..............C=50, gamma=0.0001, kernel=linear; total time=   0.0s\n",
      "[CV 1/5] END .................C=50, gamma=0.0001, kernel=rbf; total time=   0.0s\n",
      "[CV 2/5] END .................C=50, gamma=0.0001, kernel=rbf; total time=   0.0s\n",
      "[CV 3/5] END .................C=50, gamma=0.0001, kernel=rbf; total time=   0.0s\n",
      "[CV 4/5] END .................C=50, gamma=0.0001, kernel=rbf; total time=   0.0s\n",
      "[CV 5/5] END .................C=50, gamma=0.0001, kernel=rbf; total time=   0.0s\n",
      "[CV 1/5] END ................C=50, gamma=0.0001, kernel=poly; total time=   0.0s\n",
      "[CV 2/5] END ................C=50, gamma=0.0001, kernel=poly; total time=   0.0s\n",
      "[CV 3/5] END ................C=50, gamma=0.0001, kernel=poly; total time=   0.0s\n",
      "[CV 4/5] END ................C=50, gamma=0.0001, kernel=poly; total time=   0.0s\n",
      "[CV 5/5] END ................C=50, gamma=0.0001, kernel=poly; total time=   0.0s\n",
      "[CV 1/5] END .............C=50, gamma=0.0001, kernel=sigmoid; total time=   0.0s\n",
      "[CV 2/5] END .............C=50, gamma=0.0001, kernel=sigmoid; total time=   0.0s\n",
      "[CV 3/5] END .............C=50, gamma=0.0001, kernel=sigmoid; total time=   0.0s\n",
      "[CV 4/5] END .............C=50, gamma=0.0001, kernel=sigmoid; total time=   0.0s\n",
      "[CV 5/5] END .............C=50, gamma=0.0001, kernel=sigmoid; total time=   0.0s\n",
      "[CV 1/5] END ...............C=70, gamma=0.001, kernel=linear; total time=   0.0s\n",
      "[CV 2/5] END ...............C=70, gamma=0.001, kernel=linear; total time=   0.0s\n",
      "[CV 3/5] END ...............C=70, gamma=0.001, kernel=linear; total time=   0.0s\n",
      "[CV 4/5] END ...............C=70, gamma=0.001, kernel=linear; total time=   0.0s\n",
      "[CV 5/5] END ...............C=70, gamma=0.001, kernel=linear; total time=   0.0s\n",
      "[CV 1/5] END ..................C=70, gamma=0.001, kernel=rbf; total time=   0.0s\n",
      "[CV 2/5] END ..................C=70, gamma=0.001, kernel=rbf; total time=   0.0s\n",
      "[CV 3/5] END ..................C=70, gamma=0.001, kernel=rbf; total time=   0.0s\n",
      "[CV 4/5] END ..................C=70, gamma=0.001, kernel=rbf; total time=   0.0s\n",
      "[CV 5/5] END ..................C=70, gamma=0.001, kernel=rbf; total time=   0.0s\n",
      "[CV 1/5] END .................C=70, gamma=0.001, kernel=poly; total time=   0.0s\n",
      "[CV 2/5] END .................C=70, gamma=0.001, kernel=poly; total time=   0.0s\n",
      "[CV 3/5] END .................C=70, gamma=0.001, kernel=poly; total time=   0.0s\n",
      "[CV 4/5] END .................C=70, gamma=0.001, kernel=poly; total time=   0.0s\n",
      "[CV 5/5] END .................C=70, gamma=0.001, kernel=poly; total time=   0.0s\n",
      "[CV 1/5] END ..............C=70, gamma=0.001, kernel=sigmoid; total time=   0.0s\n",
      "[CV 2/5] END ..............C=70, gamma=0.001, kernel=sigmoid; total time=   0.0s\n",
      "[CV 3/5] END ..............C=70, gamma=0.001, kernel=sigmoid; total time=   0.0s\n",
      "[CV 4/5] END ..............C=70, gamma=0.001, kernel=sigmoid; total time=   0.0s\n",
      "[CV 5/5] END ..............C=70, gamma=0.001, kernel=sigmoid; total time=   0.0s\n",
      "[CV 1/5] END ..............C=70, gamma=0.0001, kernel=linear; total time=   0.0s\n",
      "[CV 2/5] END ..............C=70, gamma=0.0001, kernel=linear; total time=   0.0s\n",
      "[CV 3/5] END ..............C=70, gamma=0.0001, kernel=linear; total time=   0.0s\n",
      "[CV 4/5] END ..............C=70, gamma=0.0001, kernel=linear; total time=   0.0s\n",
      "[CV 5/5] END ..............C=70, gamma=0.0001, kernel=linear; total time=   0.0s\n",
      "[CV 1/5] END .................C=70, gamma=0.0001, kernel=rbf; total time=   0.0s\n"
     ]
    },
    {
     "name": "stdout",
     "output_type": "stream",
     "text": [
      "[CV 2/5] END .................C=70, gamma=0.0001, kernel=rbf; total time=   0.0s\n",
      "[CV 3/5] END .................C=70, gamma=0.0001, kernel=rbf; total time=   0.0s\n",
      "[CV 4/5] END .................C=70, gamma=0.0001, kernel=rbf; total time=   0.0s\n",
      "[CV 5/5] END .................C=70, gamma=0.0001, kernel=rbf; total time=   0.0s\n",
      "[CV 1/5] END ................C=70, gamma=0.0001, kernel=poly; total time=   0.0s\n",
      "[CV 2/5] END ................C=70, gamma=0.0001, kernel=poly; total time=   0.0s\n",
      "[CV 3/5] END ................C=70, gamma=0.0001, kernel=poly; total time=   0.0s\n",
      "[CV 4/5] END ................C=70, gamma=0.0001, kernel=poly; total time=   0.0s\n",
      "[CV 5/5] END ................C=70, gamma=0.0001, kernel=poly; total time=   0.0s\n",
      "[CV 1/5] END .............C=70, gamma=0.0001, kernel=sigmoid; total time=   0.0s\n",
      "[CV 2/5] END .............C=70, gamma=0.0001, kernel=sigmoid; total time=   0.0s\n",
      "[CV 3/5] END .............C=70, gamma=0.0001, kernel=sigmoid; total time=   0.0s\n",
      "[CV 4/5] END .............C=70, gamma=0.0001, kernel=sigmoid; total time=   0.0s\n",
      "[CV 5/5] END .............C=70, gamma=0.0001, kernel=sigmoid; total time=   0.0s\n",
      "[CV 1/5] END ..............C=100, gamma=0.001, kernel=linear; total time=   0.0s\n",
      "[CV 2/5] END ..............C=100, gamma=0.001, kernel=linear; total time=   0.0s\n",
      "[CV 3/5] END ..............C=100, gamma=0.001, kernel=linear; total time=   0.0s\n",
      "[CV 4/5] END ..............C=100, gamma=0.001, kernel=linear; total time=   0.0s\n",
      "[CV 5/5] END ..............C=100, gamma=0.001, kernel=linear; total time=   0.0s\n",
      "[CV 1/5] END .................C=100, gamma=0.001, kernel=rbf; total time=   0.0s\n",
      "[CV 2/5] END .................C=100, gamma=0.001, kernel=rbf; total time=   0.0s\n",
      "[CV 3/5] END .................C=100, gamma=0.001, kernel=rbf; total time=   0.0s\n",
      "[CV 4/5] END .................C=100, gamma=0.001, kernel=rbf; total time=   0.0s\n",
      "[CV 5/5] END .................C=100, gamma=0.001, kernel=rbf; total time=   0.0s\n",
      "[CV 1/5] END ................C=100, gamma=0.001, kernel=poly; total time=   0.0s\n",
      "[CV 2/5] END ................C=100, gamma=0.001, kernel=poly; total time=   0.0s\n",
      "[CV 3/5] END ................C=100, gamma=0.001, kernel=poly; total time=   0.0s\n",
      "[CV 4/5] END ................C=100, gamma=0.001, kernel=poly; total time=   0.0s\n",
      "[CV 5/5] END ................C=100, gamma=0.001, kernel=poly; total time=   0.0s\n",
      "[CV 1/5] END .............C=100, gamma=0.001, kernel=sigmoid; total time=   0.0s\n",
      "[CV 2/5] END .............C=100, gamma=0.001, kernel=sigmoid; total time=   0.0s\n",
      "[CV 3/5] END .............C=100, gamma=0.001, kernel=sigmoid; total time=   0.0s\n",
      "[CV 4/5] END .............C=100, gamma=0.001, kernel=sigmoid; total time=   0.0s\n",
      "[CV 5/5] END .............C=100, gamma=0.001, kernel=sigmoid; total time=   0.0s\n",
      "[CV 1/5] END .............C=100, gamma=0.0001, kernel=linear; total time=   0.0s\n",
      "[CV 2/5] END .............C=100, gamma=0.0001, kernel=linear; total time=   0.0s\n",
      "[CV 3/5] END .............C=100, gamma=0.0001, kernel=linear; total time=   0.0s\n",
      "[CV 4/5] END .............C=100, gamma=0.0001, kernel=linear; total time=   0.0s\n",
      "[CV 5/5] END .............C=100, gamma=0.0001, kernel=linear; total time=   0.0s\n",
      "[CV 1/5] END ................C=100, gamma=0.0001, kernel=rbf; total time=   0.0s\n",
      "[CV 2/5] END ................C=100, gamma=0.0001, kernel=rbf; total time=   0.0s\n",
      "[CV 3/5] END ................C=100, gamma=0.0001, kernel=rbf; total time=   0.0s\n",
      "[CV 4/5] END ................C=100, gamma=0.0001, kernel=rbf; total time=   0.0s\n",
      "[CV 5/5] END ................C=100, gamma=0.0001, kernel=rbf; total time=   0.0s\n",
      "[CV 1/5] END ...............C=100, gamma=0.0001, kernel=poly; total time=   0.0s\n",
      "[CV 2/5] END ...............C=100, gamma=0.0001, kernel=poly; total time=   0.0s\n",
      "[CV 3/5] END ...............C=100, gamma=0.0001, kernel=poly; total time=   0.0s\n",
      "[CV 4/5] END ...............C=100, gamma=0.0001, kernel=poly; total time=   0.0s\n",
      "[CV 5/5] END ...............C=100, gamma=0.0001, kernel=poly; total time=   0.0s\n",
      "[CV 1/5] END ............C=100, gamma=0.0001, kernel=sigmoid; total time=   0.0s\n",
      "[CV 2/5] END ............C=100, gamma=0.0001, kernel=sigmoid; total time=   0.0s\n",
      "[CV 3/5] END ............C=100, gamma=0.0001, kernel=sigmoid; total time=   0.0s\n",
      "[CV 4/5] END ............C=100, gamma=0.0001, kernel=sigmoid; total time=   0.0s\n",
      "[CV 5/5] END ............C=100, gamma=0.0001, kernel=sigmoid; total time=   0.0s\n",
      "[CV 1/5] END .............C=1000, gamma=0.001, kernel=linear; total time=   0.0s\n",
      "[CV 2/5] END .............C=1000, gamma=0.001, kernel=linear; total time=   0.0s\n",
      "[CV 3/5] END .............C=1000, gamma=0.001, kernel=linear; total time=   0.0s\n",
      "[CV 4/5] END .............C=1000, gamma=0.001, kernel=linear; total time=   0.1s\n",
      "[CV 5/5] END .............C=1000, gamma=0.001, kernel=linear; total time=   0.0s\n",
      "[CV 1/5] END ................C=1000, gamma=0.001, kernel=rbf; total time=   0.0s\n",
      "[CV 2/5] END ................C=1000, gamma=0.001, kernel=rbf; total time=   0.0s\n",
      "[CV 3/5] END ................C=1000, gamma=0.001, kernel=rbf; total time=   0.0s\n",
      "[CV 4/5] END ................C=1000, gamma=0.001, kernel=rbf; total time=   0.0s\n",
      "[CV 5/5] END ................C=1000, gamma=0.001, kernel=rbf; total time=   0.0s\n",
      "[CV 1/5] END ...............C=1000, gamma=0.001, kernel=poly; total time=   0.0s\n",
      "[CV 2/5] END ...............C=1000, gamma=0.001, kernel=poly; total time=   0.0s\n",
      "[CV 3/5] END ...............C=1000, gamma=0.001, kernel=poly; total time=   0.0s\n",
      "[CV 4/5] END ...............C=1000, gamma=0.001, kernel=poly; total time=   0.0s\n",
      "[CV 5/5] END ...............C=1000, gamma=0.001, kernel=poly; total time=   0.0s\n",
      "[CV 1/5] END ............C=1000, gamma=0.001, kernel=sigmoid; total time=   0.0s\n",
      "[CV 2/5] END ............C=1000, gamma=0.001, kernel=sigmoid; total time=   0.0s\n",
      "[CV 3/5] END ............C=1000, gamma=0.001, kernel=sigmoid; total time=   0.0s\n",
      "[CV 4/5] END ............C=1000, gamma=0.001, kernel=sigmoid; total time=   0.0s\n",
      "[CV 5/5] END ............C=1000, gamma=0.001, kernel=sigmoid; total time=   0.0s\n",
      "[CV 1/5] END ............C=1000, gamma=0.0001, kernel=linear; total time=   0.0s\n",
      "[CV 2/5] END ............C=1000, gamma=0.0001, kernel=linear; total time=   0.0s\n",
      "[CV 3/5] END ............C=1000, gamma=0.0001, kernel=linear; total time=   0.0s\n",
      "[CV 4/5] END ............C=1000, gamma=0.0001, kernel=linear; total time=   0.1s\n",
      "[CV 5/5] END ............C=1000, gamma=0.0001, kernel=linear; total time=   0.0s\n",
      "[CV 1/5] END ...............C=1000, gamma=0.0001, kernel=rbf; total time=   0.0s\n",
      "[CV 2/5] END ...............C=1000, gamma=0.0001, kernel=rbf; total time=   0.0s\n",
      "[CV 3/5] END ...............C=1000, gamma=0.0001, kernel=rbf; total time=   0.0s\n",
      "[CV 4/5] END ...............C=1000, gamma=0.0001, kernel=rbf; total time=   0.0s\n",
      "[CV 5/5] END ...............C=1000, gamma=0.0001, kernel=rbf; total time=   0.0s\n",
      "[CV 1/5] END ..............C=1000, gamma=0.0001, kernel=poly; total time=   0.0s\n",
      "[CV 2/5] END ..............C=1000, gamma=0.0001, kernel=poly; total time=   0.0s\n",
      "[CV 3/5] END ..............C=1000, gamma=0.0001, kernel=poly; total time=   0.0s\n",
      "[CV 4/5] END ..............C=1000, gamma=0.0001, kernel=poly; total time=   0.0s\n",
      "[CV 5/5] END ..............C=1000, gamma=0.0001, kernel=poly; total time=   0.0s\n",
      "[CV 1/5] END ...........C=1000, gamma=0.0001, kernel=sigmoid; total time=   0.0s\n",
      "[CV 2/5] END ...........C=1000, gamma=0.0001, kernel=sigmoid; total time=   0.0s\n",
      "[CV 3/5] END ...........C=1000, gamma=0.0001, kernel=sigmoid; total time=   0.0s\n",
      "[CV 4/5] END ...........C=1000, gamma=0.0001, kernel=sigmoid; total time=   0.0s\n",
      "[CV 5/5] END ...........C=1000, gamma=0.0001, kernel=sigmoid; total time=   0.0s\n"
     ]
    },
    {
     "data": {
      "text/plain": [
       "GridSearchCV(cv=5, estimator=SVC(),\n",
       "             param_grid={'C': [1, 10, 20, 30, 50, 70, 100, 1000],\n",
       "                         'gamma': [0.001, 0.0001],\n",
       "                         'kernel': ['linear', 'rbf', 'poly', 'sigmoid']},\n",
       "             verbose=3)"
      ]
     },
     "execution_count": 413,
     "metadata": {},
     "output_type": "execute_result"
    }
   ],
   "source": [
    "svc_grid_model.fit(X_train, y_train)"
   ]
  },
  {
   "cell_type": "code",
   "execution_count": 414,
   "id": "6812ee27",
   "metadata": {},
   "outputs": [
    {
     "data": {
      "text/plain": [
       "{'C': 10, 'gamma': 0.001, 'kernel': 'linear'}"
      ]
     },
     "execution_count": 414,
     "metadata": {},
     "output_type": "execute_result"
    }
   ],
   "source": [
    "svc_grid_model.best_params_"
   ]
  },
  {
   "cell_type": "code",
   "execution_count": 415,
   "id": "eb325238",
   "metadata": {},
   "outputs": [],
   "source": [
    "y_pred_grid = svc_grid_model.predict(X_test)"
   ]
  },
  {
   "cell_type": "code",
   "execution_count": 416,
   "id": "8bcafdd2",
   "metadata": {},
   "outputs": [],
   "source": [
    "svc_grid_scores = {\"svc_grid_train\": {\"accuracy\" : accuracy_score(y_train, y_train_pred),\n",
    "    \"precision_score\" : precision_score(y_train, y_train_pred,average = \"weighted\"),\n",
    "    \"recall_score\" : recall_score(y_train, y_train_pred,average = \"weighted\"),\n",
    "    \"f1_score\" : f1_score(y_train, y_train_pred, average = \"weighted\"),}, \n",
    "\n",
    "    \"svc_grid_test\": {\"accuracy\" : accuracy_score(y_test, y_pred),\n",
    "    \"precision_score\" : precision_score(y_test, y_pred,average = \"weighted\"),\n",
    "    \"recall_score\" : recall_score(y_test, y_pred, average = \"weighted\"),\n",
    "    \"f1_score\" : f1_score(y_test, y_pred, average = \"weighted\")\n",
    "   }}\n",
    "svc_grid =pd.DataFrame(svc_grid_scores)"
   ]
  },
  {
   "cell_type": "code",
   "execution_count": 417,
   "id": "42046e77",
   "metadata": {},
   "outputs": [
    {
     "data": {
      "text/html": [
       "<div>\n",
       "<style scoped>\n",
       "    .dataframe tbody tr th:only-of-type {\n",
       "        vertical-align: middle;\n",
       "    }\n",
       "\n",
       "    .dataframe tbody tr th {\n",
       "        vertical-align: top;\n",
       "    }\n",
       "\n",
       "    .dataframe thead th {\n",
       "        text-align: right;\n",
       "    }\n",
       "</style>\n",
       "<table border=\"1\" class=\"dataframe\">\n",
       "  <thead>\n",
       "    <tr style=\"text-align: right;\">\n",
       "      <th></th>\n",
       "      <th>svc_grid_train</th>\n",
       "      <th>svc_grid_test</th>\n",
       "    </tr>\n",
       "  </thead>\n",
       "  <tbody>\n",
       "    <tr>\n",
       "      <th>accuracy</th>\n",
       "      <td>0.87</td>\n",
       "      <td>0.87</td>\n",
       "    </tr>\n",
       "    <tr>\n",
       "      <th>precision_score</th>\n",
       "      <td>0.87</td>\n",
       "      <td>0.87</td>\n",
       "    </tr>\n",
       "    <tr>\n",
       "      <th>recall_score</th>\n",
       "      <td>0.87</td>\n",
       "      <td>0.87</td>\n",
       "    </tr>\n",
       "    <tr>\n",
       "      <th>f1_score</th>\n",
       "      <td>0.87</td>\n",
       "      <td>0.87</td>\n",
       "    </tr>\n",
       "  </tbody>\n",
       "</table>\n",
       "</div>"
      ],
      "text/plain": [
       "                 svc_grid_train  svc_grid_test\n",
       "accuracy                   0.87           0.87\n",
       "precision_score            0.87           0.87\n",
       "recall_score               0.87           0.87\n",
       "f1_score                   0.87           0.87"
      ]
     },
     "execution_count": 417,
     "metadata": {},
     "output_type": "execute_result"
    }
   ],
   "source": [
    "svc_grid"
   ]
  },
  {
   "cell_type": "code",
   "execution_count": null,
   "id": "332e3b4c",
   "metadata": {},
   "outputs": [],
   "source": []
  },
  {
   "cell_type": "code",
   "execution_count": null,
   "id": "1b9a54c5",
   "metadata": {},
   "outputs": [],
   "source": []
  },
  {
   "cell_type": "markdown",
   "id": "72ad5071-668f-40da-9d9d-b11e8cd2fa0f",
   "metadata": {},
   "source": [
    "# 2. Decision Trees Classification"
   ]
  },
  {
   "cell_type": "markdown",
   "id": "7d787abb-1b13-4d55-b1a8-914d59fc0dea",
   "metadata": {},
   "source": [
    "## Train - Test Split"
   ]
  },
  {
   "cell_type": "code",
   "execution_count": null,
   "id": "31d563dd",
   "metadata": {},
   "outputs": [],
   "source": []
  },
  {
   "cell_type": "markdown",
   "id": "e0c366d9-1544-4608-b939-b276ee54086b",
   "metadata": {},
   "source": [
    "## Model Fitting and Compare Actual and Predicted Labels"
   ]
  },
  {
   "cell_type": "code",
   "execution_count": 418,
   "id": "8a12d46a",
   "metadata": {},
   "outputs": [],
   "source": [
    "from sklearn.tree import DecisionTreeClassifier"
   ]
  },
  {
   "cell_type": "code",
   "execution_count": 419,
   "id": "6db9fb75",
   "metadata": {},
   "outputs": [],
   "source": [
    "dt_model = DecisionTreeClassifier(criterion= \"gini\", min_samples_split= 2)"
   ]
  },
  {
   "cell_type": "code",
   "execution_count": 420,
   "id": "6762ea84",
   "metadata": {},
   "outputs": [
    {
     "data": {
      "text/plain": [
       "DecisionTreeClassifier()"
      ]
     },
     "execution_count": 420,
     "metadata": {},
     "output_type": "execute_result"
    }
   ],
   "source": [
    "dt_model.fit(X_train, y_train)"
   ]
  },
  {
   "cell_type": "code",
   "execution_count": 421,
   "id": "0c811c70",
   "metadata": {},
   "outputs": [],
   "source": [
    "y_pred = dt_model.predict(X_test)\n",
    "y_train_pred = dt_model.predict(X_train)"
   ]
  },
  {
   "cell_type": "code",
   "execution_count": null,
   "id": "631433b5",
   "metadata": {},
   "outputs": [],
   "source": []
  },
  {
   "cell_type": "markdown",
   "id": "a2cd72f1-8bcd-4fff-b268-22e747a869f9",
   "metadata": {},
   "source": [
    "## Error Metrics"
   ]
  },
  {
   "cell_type": "code",
   "execution_count": 422,
   "id": "702d0e97",
   "metadata": {},
   "outputs": [
    {
     "name": "stdout",
     "output_type": "stream",
     "text": [
      "              precision    recall  f1-score   support\n",
      "\n",
      "           0       1.00      1.00      1.00       106\n",
      "           1       1.00      1.00      1.00       106\n",
      "\n",
      "    accuracy                           1.00       212\n",
      "   macro avg       1.00      1.00      1.00       212\n",
      "weighted avg       1.00      1.00      1.00       212\n",
      "\n"
     ]
    }
   ],
   "source": [
    "print(classification_report(y_train, y_train_pred))"
   ]
  },
  {
   "cell_type": "code",
   "execution_count": 423,
   "id": "7991d4f3",
   "metadata": {},
   "outputs": [
    {
     "name": "stdout",
     "output_type": "stream",
     "text": [
      "              precision    recall  f1-score   support\n",
      "\n",
      "           0       0.69      0.75      0.72        32\n",
      "           1       0.86      0.81      0.83        59\n",
      "\n",
      "    accuracy                           0.79        91\n",
      "   macro avg       0.77      0.78      0.78        91\n",
      "weighted avg       0.80      0.79      0.79        91\n",
      "\n"
     ]
    }
   ],
   "source": [
    "print(classification_report(y_test, y_pred))"
   ]
  },
  {
   "cell_type": "code",
   "execution_count": 424,
   "id": "cee60474",
   "metadata": {},
   "outputs": [],
   "source": [
    "dt_scores = {\"dt_train\": {\"accuracy\" : accuracy_score(y_train, y_train_pred),\n",
    "    \"precision_score\" : precision_score(y_train, y_train_pred,average = \"weighted\"),\n",
    "    \"recall_score\" : recall_score(y_train, y_train_pred,average = \"weighted\"),\n",
    "    \"f1_score\" : f1_score(y_train, y_train_pred, average = \"weighted\"),}, \n",
    "\n",
    "    \"dt_test\": {\"accuracy\" : accuracy_score(y_test, y_pred),\n",
    "    \"precision_score\" : precision_score(y_test, y_pred,average = \"weighted\"),\n",
    "    \"recall_score\" : recall_score(y_test, y_pred, average = \"weighted\"),\n",
    "    \"f1_score\" : f1_score(y_test, y_pred, average = \"weighted\")\n",
    "   }}\n",
    "dt =pd.DataFrame(dt_scores)"
   ]
  },
  {
   "cell_type": "code",
   "execution_count": 425,
   "id": "c1e5d80d",
   "metadata": {},
   "outputs": [
    {
     "data": {
      "text/html": [
       "<div>\n",
       "<style scoped>\n",
       "    .dataframe tbody tr th:only-of-type {\n",
       "        vertical-align: middle;\n",
       "    }\n",
       "\n",
       "    .dataframe tbody tr th {\n",
       "        vertical-align: top;\n",
       "    }\n",
       "\n",
       "    .dataframe thead th {\n",
       "        text-align: right;\n",
       "    }\n",
       "</style>\n",
       "<table border=\"1\" class=\"dataframe\">\n",
       "  <thead>\n",
       "    <tr style=\"text-align: right;\">\n",
       "      <th></th>\n",
       "      <th>dt_train</th>\n",
       "      <th>dt_test</th>\n",
       "    </tr>\n",
       "  </thead>\n",
       "  <tbody>\n",
       "    <tr>\n",
       "      <th>accuracy</th>\n",
       "      <td>1.00</td>\n",
       "      <td>0.79</td>\n",
       "    </tr>\n",
       "    <tr>\n",
       "      <th>precision_score</th>\n",
       "      <td>1.00</td>\n",
       "      <td>0.80</td>\n",
       "    </tr>\n",
       "    <tr>\n",
       "      <th>recall_score</th>\n",
       "      <td>1.00</td>\n",
       "      <td>0.79</td>\n",
       "    </tr>\n",
       "    <tr>\n",
       "      <th>f1_score</th>\n",
       "      <td>1.00</td>\n",
       "      <td>0.79</td>\n",
       "    </tr>\n",
       "  </tbody>\n",
       "</table>\n",
       "</div>"
      ],
      "text/plain": [
       "                 dt_train  dt_test\n",
       "accuracy             1.00     0.79\n",
       "precision_score      1.00     0.80\n",
       "recall_score         1.00     0.79\n",
       "f1_score             1.00     0.79"
      ]
     },
     "execution_count": 425,
     "metadata": {},
     "output_type": "execute_result"
    }
   ],
   "source": [
    "dt"
   ]
  },
  {
   "cell_type": "markdown",
   "id": "9e8c36b4",
   "metadata": {},
   "source": [
    "# DT GridsearchCV "
   ]
  },
  {
   "cell_type": "code",
   "execution_count": 426,
   "id": "fb2603b1",
   "metadata": {},
   "outputs": [],
   "source": [
    "from sklearn.model_selection import GridSearchCV"
   ]
  },
  {
   "cell_type": "code",
   "execution_count": 427,
   "id": "d5b565ae",
   "metadata": {},
   "outputs": [],
   "source": [
    "param_grid = {'criterion':['gini','entropy'],'max_depth':[4,5,6,7,8,9,10,11,12,15,20,30,40,50,70,90,120,150],'min_samples_split': [2, 5,10]}"
   ]
  },
  {
   "cell_type": "code",
   "execution_count": 428,
   "id": "9b253bd8",
   "metadata": {},
   "outputs": [],
   "source": [
    "model= DecisionTreeClassifier()"
   ]
  },
  {
   "cell_type": "code",
   "execution_count": 429,
   "id": "2e180df1",
   "metadata": {},
   "outputs": [],
   "source": [
    "dt_grid_model = GridSearchCV(model, param_grid, verbose = 3, refit= True)"
   ]
  },
  {
   "cell_type": "code",
   "execution_count": 430,
   "id": "b846ec94",
   "metadata": {},
   "outputs": [
    {
     "name": "stdout",
     "output_type": "stream",
     "text": [
      "Fitting 5 folds for each of 108 candidates, totalling 540 fits\n",
      "[CV 1/5] END criterion=gini, max_depth=4, min_samples_split=2; total time=   0.0s\n",
      "[CV 2/5] END criterion=gini, max_depth=4, min_samples_split=2; total time=   0.0s\n",
      "[CV 3/5] END criterion=gini, max_depth=4, min_samples_split=2; total time=   0.0s\n",
      "[CV 4/5] END criterion=gini, max_depth=4, min_samples_split=2; total time=   0.0s\n",
      "[CV 5/5] END criterion=gini, max_depth=4, min_samples_split=2; total time=   0.0s\n",
      "[CV 1/5] END criterion=gini, max_depth=4, min_samples_split=5; total time=   0.0s\n",
      "[CV 2/5] END criterion=gini, max_depth=4, min_samples_split=5; total time=   0.0s\n",
      "[CV 3/5] END criterion=gini, max_depth=4, min_samples_split=5; total time=   0.0s\n",
      "[CV 4/5] END criterion=gini, max_depth=4, min_samples_split=5; total time=   0.0s\n",
      "[CV 5/5] END criterion=gini, max_depth=4, min_samples_split=5; total time=   0.0s\n",
      "[CV 1/5] END criterion=gini, max_depth=4, min_samples_split=10; total time=   0.0s\n",
      "[CV 2/5] END criterion=gini, max_depth=4, min_samples_split=10; total time=   0.0s\n",
      "[CV 3/5] END criterion=gini, max_depth=4, min_samples_split=10; total time=   0.0s\n",
      "[CV 4/5] END criterion=gini, max_depth=4, min_samples_split=10; total time=   0.0s\n",
      "[CV 5/5] END criterion=gini, max_depth=4, min_samples_split=10; total time=   0.0s\n",
      "[CV 1/5] END criterion=gini, max_depth=5, min_samples_split=2; total time=   0.0s\n",
      "[CV 2/5] END criterion=gini, max_depth=5, min_samples_split=2; total time=   0.0s\n",
      "[CV 3/5] END criterion=gini, max_depth=5, min_samples_split=2; total time=   0.0s\n",
      "[CV 4/5] END criterion=gini, max_depth=5, min_samples_split=2; total time=   0.0s\n",
      "[CV 5/5] END criterion=gini, max_depth=5, min_samples_split=2; total time=   0.0s\n",
      "[CV 1/5] END criterion=gini, max_depth=5, min_samples_split=5; total time=   0.0s\n",
      "[CV 2/5] END criterion=gini, max_depth=5, min_samples_split=5; total time=   0.0s\n",
      "[CV 3/5] END criterion=gini, max_depth=5, min_samples_split=5; total time=   0.0s\n",
      "[CV 4/5] END criterion=gini, max_depth=5, min_samples_split=5; total time=   0.0s\n",
      "[CV 5/5] END criterion=gini, max_depth=5, min_samples_split=5; total time=   0.0s\n",
      "[CV 1/5] END criterion=gini, max_depth=5, min_samples_split=10; total time=   0.0s\n",
      "[CV 2/5] END criterion=gini, max_depth=5, min_samples_split=10; total time=   0.0s\n",
      "[CV 3/5] END criterion=gini, max_depth=5, min_samples_split=10; total time=   0.0s\n",
      "[CV 4/5] END criterion=gini, max_depth=5, min_samples_split=10; total time=   0.0s\n",
      "[CV 5/5] END criterion=gini, max_depth=5, min_samples_split=10; total time=   0.0s\n",
      "[CV 1/5] END criterion=gini, max_depth=6, min_samples_split=2; total time=   0.0s\n",
      "[CV 2/5] END criterion=gini, max_depth=6, min_samples_split=2; total time=   0.0s\n",
      "[CV 3/5] END criterion=gini, max_depth=6, min_samples_split=2; total time=   0.0s\n",
      "[CV 4/5] END criterion=gini, max_depth=6, min_samples_split=2; total time=   0.0s\n",
      "[CV 5/5] END criterion=gini, max_depth=6, min_samples_split=2; total time=   0.0s\n",
      "[CV 1/5] END criterion=gini, max_depth=6, min_samples_split=5; total time=   0.0s\n",
      "[CV 2/5] END criterion=gini, max_depth=6, min_samples_split=5; total time=   0.0s\n",
      "[CV 3/5] END criterion=gini, max_depth=6, min_samples_split=5; total time=   0.0s\n",
      "[CV 4/5] END criterion=gini, max_depth=6, min_samples_split=5; total time=   0.0s\n",
      "[CV 5/5] END criterion=gini, max_depth=6, min_samples_split=5; total time=   0.0s\n",
      "[CV 1/5] END criterion=gini, max_depth=6, min_samples_split=10; total time=   0.0s\n",
      "[CV 2/5] END criterion=gini, max_depth=6, min_samples_split=10; total time=   0.0s\n",
      "[CV 3/5] END criterion=gini, max_depth=6, min_samples_split=10; total time=   0.0s\n",
      "[CV 4/5] END criterion=gini, max_depth=6, min_samples_split=10; total time=   0.0s\n",
      "[CV 5/5] END criterion=gini, max_depth=6, min_samples_split=10; total time=   0.0s\n",
      "[CV 1/5] END criterion=gini, max_depth=7, min_samples_split=2; total time=   0.0s\n",
      "[CV 2/5] END criterion=gini, max_depth=7, min_samples_split=2; total time=   0.0s\n",
      "[CV 3/5] END criterion=gini, max_depth=7, min_samples_split=2; total time=   0.0s\n",
      "[CV 4/5] END criterion=gini, max_depth=7, min_samples_split=2; total time=   0.0s\n",
      "[CV 5/5] END criterion=gini, max_depth=7, min_samples_split=2; total time=   0.0s\n",
      "[CV 1/5] END criterion=gini, max_depth=7, min_samples_split=5; total time=   0.0s\n",
      "[CV 2/5] END criterion=gini, max_depth=7, min_samples_split=5; total time=   0.0s\n",
      "[CV 3/5] END criterion=gini, max_depth=7, min_samples_split=5; total time=   0.0s\n",
      "[CV 4/5] END criterion=gini, max_depth=7, min_samples_split=5; total time=   0.0s\n",
      "[CV 5/5] END criterion=gini, max_depth=7, min_samples_split=5; total time=   0.0s\n",
      "[CV 1/5] END criterion=gini, max_depth=7, min_samples_split=10; total time=   0.0s\n",
      "[CV 2/5] END criterion=gini, max_depth=7, min_samples_split=10; total time=   0.0s\n",
      "[CV 3/5] END criterion=gini, max_depth=7, min_samples_split=10; total time=   0.0s\n",
      "[CV 4/5] END criterion=gini, max_depth=7, min_samples_split=10; total time=   0.0s\n",
      "[CV 5/5] END criterion=gini, max_depth=7, min_samples_split=10; total time=   0.0s\n",
      "[CV 1/5] END criterion=gini, max_depth=8, min_samples_split=2; total time=   0.0s\n",
      "[CV 2/5] END criterion=gini, max_depth=8, min_samples_split=2; total time=   0.0s\n",
      "[CV 3/5] END criterion=gini, max_depth=8, min_samples_split=2; total time=   0.0s\n",
      "[CV 4/5] END criterion=gini, max_depth=8, min_samples_split=2; total time=   0.0s\n",
      "[CV 5/5] END criterion=gini, max_depth=8, min_samples_split=2; total time=   0.0s\n",
      "[CV 1/5] END criterion=gini, max_depth=8, min_samples_split=5; total time=   0.0s\n",
      "[CV 2/5] END criterion=gini, max_depth=8, min_samples_split=5; total time=   0.0s\n",
      "[CV 3/5] END criterion=gini, max_depth=8, min_samples_split=5; total time=   0.0s\n",
      "[CV 4/5] END criterion=gini, max_depth=8, min_samples_split=5; total time=   0.0s\n",
      "[CV 5/5] END criterion=gini, max_depth=8, min_samples_split=5; total time=   0.0s\n",
      "[CV 1/5] END criterion=gini, max_depth=8, min_samples_split=10; total time=   0.0s\n",
      "[CV 2/5] END criterion=gini, max_depth=8, min_samples_split=10; total time=   0.0s\n",
      "[CV 3/5] END criterion=gini, max_depth=8, min_samples_split=10; total time=   0.0s\n",
      "[CV 4/5] END criterion=gini, max_depth=8, min_samples_split=10; total time=   0.0s\n",
      "[CV 5/5] END criterion=gini, max_depth=8, min_samples_split=10; total time=   0.0s\n",
      "[CV 1/5] END criterion=gini, max_depth=9, min_samples_split=2; total time=   0.0s\n",
      "[CV 2/5] END criterion=gini, max_depth=9, min_samples_split=2; total time=   0.0s\n",
      "[CV 3/5] END criterion=gini, max_depth=9, min_samples_split=2; total time=   0.0s\n",
      "[CV 4/5] END criterion=gini, max_depth=9, min_samples_split=2; total time=   0.0s\n",
      "[CV 5/5] END criterion=gini, max_depth=9, min_samples_split=2; total time=   0.0s\n",
      "[CV 1/5] END criterion=gini, max_depth=9, min_samples_split=5; total time=   0.0s\n",
      "[CV 2/5] END criterion=gini, max_depth=9, min_samples_split=5; total time=   0.0s\n",
      "[CV 3/5] END criterion=gini, max_depth=9, min_samples_split=5; total time=   0.0s\n",
      "[CV 4/5] END criterion=gini, max_depth=9, min_samples_split=5; total time=   0.0s\n",
      "[CV 5/5] END criterion=gini, max_depth=9, min_samples_split=5; total time=   0.0s\n",
      "[CV 1/5] END criterion=gini, max_depth=9, min_samples_split=10; total time=   0.0s\n",
      "[CV 2/5] END criterion=gini, max_depth=9, min_samples_split=10; total time=   0.0s\n",
      "[CV 3/5] END criterion=gini, max_depth=9, min_samples_split=10; total time=   0.0s\n",
      "[CV 4/5] END criterion=gini, max_depth=9, min_samples_split=10; total time=   0.0s\n",
      "[CV 5/5] END criterion=gini, max_depth=9, min_samples_split=10; total time=   0.0s\n",
      "[CV 1/5] END criterion=gini, max_depth=10, min_samples_split=2; total time=   0.0s\n",
      "[CV 2/5] END criterion=gini, max_depth=10, min_samples_split=2; total time=   0.0s\n",
      "[CV 3/5] END criterion=gini, max_depth=10, min_samples_split=2; total time=   0.0s\n",
      "[CV 4/5] END criterion=gini, max_depth=10, min_samples_split=2; total time=   0.0s\n",
      "[CV 5/5] END criterion=gini, max_depth=10, min_samples_split=2; total time=   0.0s\n",
      "[CV 1/5] END criterion=gini, max_depth=10, min_samples_split=5; total time=   0.0s\n",
      "[CV 2/5] END criterion=gini, max_depth=10, min_samples_split=5; total time=   0.0s\n",
      "[CV 3/5] END criterion=gini, max_depth=10, min_samples_split=5; total time=   0.0s\n",
      "[CV 4/5] END criterion=gini, max_depth=10, min_samples_split=5; total time=   0.0s\n",
      "[CV 5/5] END criterion=gini, max_depth=10, min_samples_split=5; total time=   0.0s\n",
      "[CV 1/5] END criterion=gini, max_depth=10, min_samples_split=10; total time=   0.0s\n",
      "[CV 2/5] END criterion=gini, max_depth=10, min_samples_split=10; total time=   0.0s\n",
      "[CV 3/5] END criterion=gini, max_depth=10, min_samples_split=10; total time=   0.0s\n",
      "[CV 4/5] END criterion=gini, max_depth=10, min_samples_split=10; total time=   0.0s\n",
      "[CV 5/5] END criterion=gini, max_depth=10, min_samples_split=10; total time=   0.0s\n",
      "[CV 1/5] END criterion=gini, max_depth=11, min_samples_split=2; total time=   0.0s\n",
      "[CV 2/5] END criterion=gini, max_depth=11, min_samples_split=2; total time=   0.0s\n",
      "[CV 3/5] END criterion=gini, max_depth=11, min_samples_split=2; total time=   0.0s\n",
      "[CV 4/5] END criterion=gini, max_depth=11, min_samples_split=2; total time=   0.0s\n",
      "[CV 5/5] END criterion=gini, max_depth=11, min_samples_split=2; total time=   0.0s\n",
      "[CV 1/5] END criterion=gini, max_depth=11, min_samples_split=5; total time=   0.0s\n",
      "[CV 2/5] END criterion=gini, max_depth=11, min_samples_split=5; total time=   0.0s\n",
      "[CV 3/5] END criterion=gini, max_depth=11, min_samples_split=5; total time=   0.0s\n",
      "[CV 4/5] END criterion=gini, max_depth=11, min_samples_split=5; total time=   0.0s\n",
      "[CV 5/5] END criterion=gini, max_depth=11, min_samples_split=5; total time=   0.0s\n",
      "[CV 1/5] END criterion=gini, max_depth=11, min_samples_split=10; total time=   0.0s\n",
      "[CV 2/5] END criterion=gini, max_depth=11, min_samples_split=10; total time=   0.0s\n",
      "[CV 3/5] END criterion=gini, max_depth=11, min_samples_split=10; total time=   0.0s\n",
      "[CV 4/5] END criterion=gini, max_depth=11, min_samples_split=10; total time=   0.0s\n",
      "[CV 5/5] END criterion=gini, max_depth=11, min_samples_split=10; total time=   0.0s\n",
      "[CV 1/5] END criterion=gini, max_depth=12, min_samples_split=2; total time=   0.0s\n",
      "[CV 2/5] END criterion=gini, max_depth=12, min_samples_split=2; total time=   0.0s\n",
      "[CV 3/5] END criterion=gini, max_depth=12, min_samples_split=2; total time=   0.0s\n",
      "[CV 4/5] END criterion=gini, max_depth=12, min_samples_split=2; total time=   0.0s\n",
      "[CV 5/5] END criterion=gini, max_depth=12, min_samples_split=2; total time=   0.0s\n",
      "[CV 1/5] END criterion=gini, max_depth=12, min_samples_split=5; total time=   0.0s\n",
      "[CV 2/5] END criterion=gini, max_depth=12, min_samples_split=5; total time=   0.0s\n",
      "[CV 3/5] END criterion=gini, max_depth=12, min_samples_split=5; total time=   0.0s\n",
      "[CV 4/5] END criterion=gini, max_depth=12, min_samples_split=5; total time=   0.0s\n",
      "[CV 5/5] END criterion=gini, max_depth=12, min_samples_split=5; total time=   0.0s\n",
      "[CV 1/5] END criterion=gini, max_depth=12, min_samples_split=10; total time=   0.0s\n",
      "[CV 2/5] END criterion=gini, max_depth=12, min_samples_split=10; total time=   0.0s\n",
      "[CV 3/5] END criterion=gini, max_depth=12, min_samples_split=10; total time=   0.0s\n",
      "[CV 4/5] END criterion=gini, max_depth=12, min_samples_split=10; total time=   0.0s\n",
      "[CV 5/5] END criterion=gini, max_depth=12, min_samples_split=10; total time=   0.0s\n",
      "[CV 1/5] END criterion=gini, max_depth=15, min_samples_split=2; total time=   0.0s\n",
      "[CV 2/5] END criterion=gini, max_depth=15, min_samples_split=2; total time=   0.0s\n",
      "[CV 3/5] END criterion=gini, max_depth=15, min_samples_split=2; total time=   0.0s\n",
      "[CV 4/5] END criterion=gini, max_depth=15, min_samples_split=2; total time=   0.0s\n",
      "[CV 5/5] END criterion=gini, max_depth=15, min_samples_split=2; total time=   0.0s\n",
      "[CV 1/5] END criterion=gini, max_depth=15, min_samples_split=5; total time=   0.0s\n",
      "[CV 2/5] END criterion=gini, max_depth=15, min_samples_split=5; total time=   0.0s\n",
      "[CV 3/5] END criterion=gini, max_depth=15, min_samples_split=5; total time=   0.0s\n",
      "[CV 4/5] END criterion=gini, max_depth=15, min_samples_split=5; total time=   0.0s\n",
      "[CV 5/5] END criterion=gini, max_depth=15, min_samples_split=5; total time=   0.0s\n",
      "[CV 1/5] END criterion=gini, max_depth=15, min_samples_split=10; total time=   0.0s\n",
      "[CV 2/5] END criterion=gini, max_depth=15, min_samples_split=10; total time=   0.0s\n",
      "[CV 3/5] END criterion=gini, max_depth=15, min_samples_split=10; total time=   0.0s\n",
      "[CV 4/5] END criterion=gini, max_depth=15, min_samples_split=10; total time=   0.0s\n",
      "[CV 5/5] END criterion=gini, max_depth=15, min_samples_split=10; total time=   0.0s\n",
      "[CV 1/5] END criterion=gini, max_depth=20, min_samples_split=2; total time=   0.0s\n",
      "[CV 2/5] END criterion=gini, max_depth=20, min_samples_split=2; total time=   0.0s\n",
      "[CV 3/5] END criterion=gini, max_depth=20, min_samples_split=2; total time=   0.0s\n",
      "[CV 4/5] END criterion=gini, max_depth=20, min_samples_split=2; total time=   0.0s\n",
      "[CV 5/5] END criterion=gini, max_depth=20, min_samples_split=2; total time=   0.0s\n",
      "[CV 1/5] END criterion=gini, max_depth=20, min_samples_split=5; total time=   0.0s\n",
      "[CV 2/5] END criterion=gini, max_depth=20, min_samples_split=5; total time=   0.0s\n",
      "[CV 3/5] END criterion=gini, max_depth=20, min_samples_split=5; total time=   0.0s\n",
      "[CV 4/5] END criterion=gini, max_depth=20, min_samples_split=5; total time=   0.0s\n",
      "[CV 5/5] END criterion=gini, max_depth=20, min_samples_split=5; total time=   0.0s\n",
      "[CV 1/5] END criterion=gini, max_depth=20, min_samples_split=10; total time=   0.0s\n",
      "[CV 2/5] END criterion=gini, max_depth=20, min_samples_split=10; total time=   0.0s\n",
      "[CV 3/5] END criterion=gini, max_depth=20, min_samples_split=10; total time=   0.0s\n",
      "[CV 4/5] END criterion=gini, max_depth=20, min_samples_split=10; total time=   0.0s\n",
      "[CV 5/5] END criterion=gini, max_depth=20, min_samples_split=10; total time=   0.0s\n",
      "[CV 1/5] END criterion=gini, max_depth=30, min_samples_split=2; total time=   0.0s\n",
      "[CV 2/5] END criterion=gini, max_depth=30, min_samples_split=2; total time=   0.0s\n",
      "[CV 3/5] END criterion=gini, max_depth=30, min_samples_split=2; total time=   0.0s\n",
      "[CV 4/5] END criterion=gini, max_depth=30, min_samples_split=2; total time=   0.0s\n",
      "[CV 5/5] END criterion=gini, max_depth=30, min_samples_split=2; total time=   0.0s\n",
      "[CV 1/5] END criterion=gini, max_depth=30, min_samples_split=5; total time=   0.0s\n",
      "[CV 2/5] END criterion=gini, max_depth=30, min_samples_split=5; total time=   0.0s\n",
      "[CV 3/5] END criterion=gini, max_depth=30, min_samples_split=5; total time=   0.0s\n",
      "[CV 4/5] END criterion=gini, max_depth=30, min_samples_split=5; total time=   0.0s\n",
      "[CV 5/5] END criterion=gini, max_depth=30, min_samples_split=5; total time=   0.0s\n",
      "[CV 1/5] END criterion=gini, max_depth=30, min_samples_split=10; total time=   0.0s\n",
      "[CV 2/5] END criterion=gini, max_depth=30, min_samples_split=10; total time=   0.0s\n",
      "[CV 3/5] END criterion=gini, max_depth=30, min_samples_split=10; total time=   0.0s\n",
      "[CV 4/5] END criterion=gini, max_depth=30, min_samples_split=10; total time=   0.0s\n",
      "[CV 5/5] END criterion=gini, max_depth=30, min_samples_split=10; total time=   0.0s\n",
      "[CV 1/5] END criterion=gini, max_depth=40, min_samples_split=2; total time=   0.0s\n",
      "[CV 2/5] END criterion=gini, max_depth=40, min_samples_split=2; total time=   0.0s\n",
      "[CV 3/5] END criterion=gini, max_depth=40, min_samples_split=2; total time=   0.0s\n",
      "[CV 4/5] END criterion=gini, max_depth=40, min_samples_split=2; total time=   0.0s\n",
      "[CV 5/5] END criterion=gini, max_depth=40, min_samples_split=2; total time=   0.0s\n",
      "[CV 1/5] END criterion=gini, max_depth=40, min_samples_split=5; total time=   0.0s\n",
      "[CV 2/5] END criterion=gini, max_depth=40, min_samples_split=5; total time=   0.0s\n",
      "[CV 3/5] END criterion=gini, max_depth=40, min_samples_split=5; total time=   0.0s\n",
      "[CV 4/5] END criterion=gini, max_depth=40, min_samples_split=5; total time=   0.0s\n",
      "[CV 5/5] END criterion=gini, max_depth=40, min_samples_split=5; total time=   0.0s\n",
      "[CV 1/5] END criterion=gini, max_depth=40, min_samples_split=10; total time=   0.0s\n",
      "[CV 2/5] END criterion=gini, max_depth=40, min_samples_split=10; total time=   0.0s\n",
      "[CV 3/5] END criterion=gini, max_depth=40, min_samples_split=10; total time=   0.0s\n",
      "[CV 4/5] END criterion=gini, max_depth=40, min_samples_split=10; total time=   0.0s\n",
      "[CV 5/5] END criterion=gini, max_depth=40, min_samples_split=10; total time=   0.0s\n",
      "[CV 1/5] END criterion=gini, max_depth=50, min_samples_split=2; total time=   0.0s\n",
      "[CV 2/5] END criterion=gini, max_depth=50, min_samples_split=2; total time=   0.0s\n",
      "[CV 3/5] END criterion=gini, max_depth=50, min_samples_split=2; total time=   0.0s\n",
      "[CV 4/5] END criterion=gini, max_depth=50, min_samples_split=2; total time=   0.0s\n",
      "[CV 5/5] END criterion=gini, max_depth=50, min_samples_split=2; total time=   0.0s\n"
     ]
    },
    {
     "name": "stdout",
     "output_type": "stream",
     "text": [
      "[CV 1/5] END criterion=gini, max_depth=50, min_samples_split=5; total time=   0.0s\n",
      "[CV 2/5] END criterion=gini, max_depth=50, min_samples_split=5; total time=   0.0s\n",
      "[CV 3/5] END criterion=gini, max_depth=50, min_samples_split=5; total time=   0.0s\n",
      "[CV 4/5] END criterion=gini, max_depth=50, min_samples_split=5; total time=   0.0s\n",
      "[CV 5/5] END criterion=gini, max_depth=50, min_samples_split=5; total time=   0.0s\n",
      "[CV 1/5] END criterion=gini, max_depth=50, min_samples_split=10; total time=   0.0s\n",
      "[CV 2/5] END criterion=gini, max_depth=50, min_samples_split=10; total time=   0.0s\n",
      "[CV 3/5] END criterion=gini, max_depth=50, min_samples_split=10; total time=   0.0s\n",
      "[CV 4/5] END criterion=gini, max_depth=50, min_samples_split=10; total time=   0.0s\n",
      "[CV 5/5] END criterion=gini, max_depth=50, min_samples_split=10; total time=   0.0s\n",
      "[CV 1/5] END criterion=gini, max_depth=70, min_samples_split=2; total time=   0.0s\n",
      "[CV 2/5] END criterion=gini, max_depth=70, min_samples_split=2; total time=   0.0s\n",
      "[CV 3/5] END criterion=gini, max_depth=70, min_samples_split=2; total time=   0.0s\n",
      "[CV 4/5] END criterion=gini, max_depth=70, min_samples_split=2; total time=   0.0s\n",
      "[CV 5/5] END criterion=gini, max_depth=70, min_samples_split=2; total time=   0.0s\n",
      "[CV 1/5] END criterion=gini, max_depth=70, min_samples_split=5; total time=   0.0s\n",
      "[CV 2/5] END criterion=gini, max_depth=70, min_samples_split=5; total time=   0.0s\n",
      "[CV 3/5] END criterion=gini, max_depth=70, min_samples_split=5; total time=   0.0s\n",
      "[CV 4/5] END criterion=gini, max_depth=70, min_samples_split=5; total time=   0.0s\n",
      "[CV 5/5] END criterion=gini, max_depth=70, min_samples_split=5; total time=   0.0s\n",
      "[CV 1/5] END criterion=gini, max_depth=70, min_samples_split=10; total time=   0.0s\n",
      "[CV 2/5] END criterion=gini, max_depth=70, min_samples_split=10; total time=   0.0s\n",
      "[CV 3/5] END criterion=gini, max_depth=70, min_samples_split=10; total time=   0.0s\n",
      "[CV 4/5] END criterion=gini, max_depth=70, min_samples_split=10; total time=   0.0s\n",
      "[CV 5/5] END criterion=gini, max_depth=70, min_samples_split=10; total time=   0.0s\n",
      "[CV 1/5] END criterion=gini, max_depth=90, min_samples_split=2; total time=   0.0s\n",
      "[CV 2/5] END criterion=gini, max_depth=90, min_samples_split=2; total time=   0.0s\n",
      "[CV 3/5] END criterion=gini, max_depth=90, min_samples_split=2; total time=   0.0s\n",
      "[CV 4/5] END criterion=gini, max_depth=90, min_samples_split=2; total time=   0.0s\n",
      "[CV 5/5] END criterion=gini, max_depth=90, min_samples_split=2; total time=   0.0s\n",
      "[CV 1/5] END criterion=gini, max_depth=90, min_samples_split=5; total time=   0.0s\n",
      "[CV 2/5] END criterion=gini, max_depth=90, min_samples_split=5; total time=   0.0s\n",
      "[CV 3/5] END criterion=gini, max_depth=90, min_samples_split=5; total time=   0.0s\n",
      "[CV 4/5] END criterion=gini, max_depth=90, min_samples_split=5; total time=   0.0s\n",
      "[CV 5/5] END criterion=gini, max_depth=90, min_samples_split=5; total time=   0.0s\n",
      "[CV 1/5] END criterion=gini, max_depth=90, min_samples_split=10; total time=   0.0s\n",
      "[CV 2/5] END criterion=gini, max_depth=90, min_samples_split=10; total time=   0.0s\n",
      "[CV 3/5] END criterion=gini, max_depth=90, min_samples_split=10; total time=   0.0s\n",
      "[CV 4/5] END criterion=gini, max_depth=90, min_samples_split=10; total time=   0.0s\n",
      "[CV 5/5] END criterion=gini, max_depth=90, min_samples_split=10; total time=   0.0s\n",
      "[CV 1/5] END criterion=gini, max_depth=120, min_samples_split=2; total time=   0.0s\n",
      "[CV 2/5] END criterion=gini, max_depth=120, min_samples_split=2; total time=   0.0s\n",
      "[CV 3/5] END criterion=gini, max_depth=120, min_samples_split=2; total time=   0.0s\n",
      "[CV 4/5] END criterion=gini, max_depth=120, min_samples_split=2; total time=   0.0s\n",
      "[CV 5/5] END criterion=gini, max_depth=120, min_samples_split=2; total time=   0.0s\n",
      "[CV 1/5] END criterion=gini, max_depth=120, min_samples_split=5; total time=   0.0s\n",
      "[CV 2/5] END criterion=gini, max_depth=120, min_samples_split=5; total time=   0.0s\n",
      "[CV 3/5] END criterion=gini, max_depth=120, min_samples_split=5; total time=   0.0s\n",
      "[CV 4/5] END criterion=gini, max_depth=120, min_samples_split=5; total time=   0.0s\n",
      "[CV 5/5] END criterion=gini, max_depth=120, min_samples_split=5; total time=   0.0s\n",
      "[CV 1/5] END criterion=gini, max_depth=120, min_samples_split=10; total time=   0.0s\n",
      "[CV 2/5] END criterion=gini, max_depth=120, min_samples_split=10; total time=   0.0s\n",
      "[CV 3/5] END criterion=gini, max_depth=120, min_samples_split=10; total time=   0.0s\n",
      "[CV 4/5] END criterion=gini, max_depth=120, min_samples_split=10; total time=   0.0s\n",
      "[CV 5/5] END criterion=gini, max_depth=120, min_samples_split=10; total time=   0.0s\n",
      "[CV 1/5] END criterion=gini, max_depth=150, min_samples_split=2; total time=   0.0s\n",
      "[CV 2/5] END criterion=gini, max_depth=150, min_samples_split=2; total time=   0.0s\n",
      "[CV 3/5] END criterion=gini, max_depth=150, min_samples_split=2; total time=   0.0s\n",
      "[CV 4/5] END criterion=gini, max_depth=150, min_samples_split=2; total time=   0.0s\n",
      "[CV 5/5] END criterion=gini, max_depth=150, min_samples_split=2; total time=   0.0s\n",
      "[CV 1/5] END criterion=gini, max_depth=150, min_samples_split=5; total time=   0.0s\n",
      "[CV 2/5] END criterion=gini, max_depth=150, min_samples_split=5; total time=   0.0s\n",
      "[CV 3/5] END criterion=gini, max_depth=150, min_samples_split=5; total time=   0.0s\n",
      "[CV 4/5] END criterion=gini, max_depth=150, min_samples_split=5; total time=   0.0s\n",
      "[CV 5/5] END criterion=gini, max_depth=150, min_samples_split=5; total time=   0.0s\n",
      "[CV 1/5] END criterion=gini, max_depth=150, min_samples_split=10; total time=   0.0s\n",
      "[CV 2/5] END criterion=gini, max_depth=150, min_samples_split=10; total time=   0.0s\n",
      "[CV 3/5] END criterion=gini, max_depth=150, min_samples_split=10; total time=   0.0s\n",
      "[CV 4/5] END criterion=gini, max_depth=150, min_samples_split=10; total time=   0.0s\n",
      "[CV 5/5] END criterion=gini, max_depth=150, min_samples_split=10; total time=   0.0s\n",
      "[CV 1/5] END criterion=entropy, max_depth=4, min_samples_split=2; total time=   0.0s\n",
      "[CV 2/5] END criterion=entropy, max_depth=4, min_samples_split=2; total time=   0.0s\n",
      "[CV 3/5] END criterion=entropy, max_depth=4, min_samples_split=2; total time=   0.0s\n",
      "[CV 4/5] END criterion=entropy, max_depth=4, min_samples_split=2; total time=   0.0s\n",
      "[CV 5/5] END criterion=entropy, max_depth=4, min_samples_split=2; total time=   0.0s\n",
      "[CV 1/5] END criterion=entropy, max_depth=4, min_samples_split=5; total time=   0.0s\n",
      "[CV 2/5] END criterion=entropy, max_depth=4, min_samples_split=5; total time=   0.0s\n",
      "[CV 3/5] END criterion=entropy, max_depth=4, min_samples_split=5; total time=   0.0s\n",
      "[CV 4/5] END criterion=entropy, max_depth=4, min_samples_split=5; total time=   0.0s\n",
      "[CV 5/5] END criterion=entropy, max_depth=4, min_samples_split=5; total time=   0.0s\n",
      "[CV 1/5] END criterion=entropy, max_depth=4, min_samples_split=10; total time=   0.0s\n",
      "[CV 2/5] END criterion=entropy, max_depth=4, min_samples_split=10; total time=   0.0s\n",
      "[CV 3/5] END criterion=entropy, max_depth=4, min_samples_split=10; total time=   0.0s\n",
      "[CV 4/5] END criterion=entropy, max_depth=4, min_samples_split=10; total time=   0.0s\n",
      "[CV 5/5] END criterion=entropy, max_depth=4, min_samples_split=10; total time=   0.0s\n",
      "[CV 1/5] END criterion=entropy, max_depth=5, min_samples_split=2; total time=   0.0s\n",
      "[CV 2/5] END criterion=entropy, max_depth=5, min_samples_split=2; total time=   0.0s\n",
      "[CV 3/5] END criterion=entropy, max_depth=5, min_samples_split=2; total time=   0.0s\n",
      "[CV 4/5] END criterion=entropy, max_depth=5, min_samples_split=2; total time=   0.0s\n",
      "[CV 5/5] END criterion=entropy, max_depth=5, min_samples_split=2; total time=   0.0s\n",
      "[CV 1/5] END criterion=entropy, max_depth=5, min_samples_split=5; total time=   0.0s\n",
      "[CV 2/5] END criterion=entropy, max_depth=5, min_samples_split=5; total time=   0.0s\n",
      "[CV 3/5] END criterion=entropy, max_depth=5, min_samples_split=5; total time=   0.0s\n",
      "[CV 4/5] END criterion=entropy, max_depth=5, min_samples_split=5; total time=   0.0s\n",
      "[CV 5/5] END criterion=entropy, max_depth=5, min_samples_split=5; total time=   0.0s\n",
      "[CV 1/5] END criterion=entropy, max_depth=5, min_samples_split=10; total time=   0.0s\n",
      "[CV 2/5] END criterion=entropy, max_depth=5, min_samples_split=10; total time=   0.0s\n",
      "[CV 3/5] END criterion=entropy, max_depth=5, min_samples_split=10; total time=   0.0s\n",
      "[CV 4/5] END criterion=entropy, max_depth=5, min_samples_split=10; total time=   0.0s\n",
      "[CV 5/5] END criterion=entropy, max_depth=5, min_samples_split=10; total time=   0.0s\n",
      "[CV 1/5] END criterion=entropy, max_depth=6, min_samples_split=2; total time=   0.0s\n",
      "[CV 2/5] END criterion=entropy, max_depth=6, min_samples_split=2; total time=   0.0s\n",
      "[CV 3/5] END criterion=entropy, max_depth=6, min_samples_split=2; total time=   0.0s\n",
      "[CV 4/5] END criterion=entropy, max_depth=6, min_samples_split=2; total time=   0.0s\n",
      "[CV 5/5] END criterion=entropy, max_depth=6, min_samples_split=2; total time=   0.0s\n",
      "[CV 1/5] END criterion=entropy, max_depth=6, min_samples_split=5; total time=   0.0s\n",
      "[CV 2/5] END criterion=entropy, max_depth=6, min_samples_split=5; total time=   0.0s\n"
     ]
    },
    {
     "name": "stdout",
     "output_type": "stream",
     "text": [
      "[CV 3/5] END criterion=entropy, max_depth=6, min_samples_split=5; total time=   0.0s\n",
      "[CV 4/5] END criterion=entropy, max_depth=6, min_samples_split=5; total time=   0.0s\n",
      "[CV 5/5] END criterion=entropy, max_depth=6, min_samples_split=5; total time=   0.0s\n",
      "[CV 1/5] END criterion=entropy, max_depth=6, min_samples_split=10; total time=   0.0s\n",
      "[CV 2/5] END criterion=entropy, max_depth=6, min_samples_split=10; total time=   0.0s\n",
      "[CV 3/5] END criterion=entropy, max_depth=6, min_samples_split=10; total time=   0.0s\n",
      "[CV 4/5] END criterion=entropy, max_depth=6, min_samples_split=10; total time=   0.0s\n",
      "[CV 5/5] END criterion=entropy, max_depth=6, min_samples_split=10; total time=   0.0s\n",
      "[CV 1/5] END criterion=entropy, max_depth=7, min_samples_split=2; total time=   0.0s\n",
      "[CV 2/5] END criterion=entropy, max_depth=7, min_samples_split=2; total time=   0.0s\n",
      "[CV 3/5] END criterion=entropy, max_depth=7, min_samples_split=2; total time=   0.0s\n",
      "[CV 4/5] END criterion=entropy, max_depth=7, min_samples_split=2; total time=   0.0s\n",
      "[CV 5/5] END criterion=entropy, max_depth=7, min_samples_split=2; total time=   0.0s\n",
      "[CV 1/5] END criterion=entropy, max_depth=7, min_samples_split=5; total time=   0.0s\n",
      "[CV 2/5] END criterion=entropy, max_depth=7, min_samples_split=5; total time=   0.0s\n",
      "[CV 3/5] END criterion=entropy, max_depth=7, min_samples_split=5; total time=   0.0s\n",
      "[CV 4/5] END criterion=entropy, max_depth=7, min_samples_split=5; total time=   0.0s\n",
      "[CV 5/5] END criterion=entropy, max_depth=7, min_samples_split=5; total time=   0.0s\n",
      "[CV 1/5] END criterion=entropy, max_depth=7, min_samples_split=10; total time=   0.0s\n",
      "[CV 2/5] END criterion=entropy, max_depth=7, min_samples_split=10; total time=   0.0s\n",
      "[CV 3/5] END criterion=entropy, max_depth=7, min_samples_split=10; total time=   0.0s\n",
      "[CV 4/5] END criterion=entropy, max_depth=7, min_samples_split=10; total time=   0.0s\n",
      "[CV 5/5] END criterion=entropy, max_depth=7, min_samples_split=10; total time=   0.0s\n",
      "[CV 1/5] END criterion=entropy, max_depth=8, min_samples_split=2; total time=   0.0s\n",
      "[CV 2/5] END criterion=entropy, max_depth=8, min_samples_split=2; total time=   0.0s\n",
      "[CV 3/5] END criterion=entropy, max_depth=8, min_samples_split=2; total time=   0.0s\n",
      "[CV 4/5] END criterion=entropy, max_depth=8, min_samples_split=2; total time=   0.0s\n",
      "[CV 5/5] END criterion=entropy, max_depth=8, min_samples_split=2; total time=   0.0s\n",
      "[CV 1/5] END criterion=entropy, max_depth=8, min_samples_split=5; total time=   0.0s\n",
      "[CV 2/5] END criterion=entropy, max_depth=8, min_samples_split=5; total time=   0.0s\n",
      "[CV 3/5] END criterion=entropy, max_depth=8, min_samples_split=5; total time=   0.0s\n",
      "[CV 4/5] END criterion=entropy, max_depth=8, min_samples_split=5; total time=   0.0s\n",
      "[CV 5/5] END criterion=entropy, max_depth=8, min_samples_split=5; total time=   0.0s\n",
      "[CV 1/5] END criterion=entropy, max_depth=8, min_samples_split=10; total time=   0.0s\n",
      "[CV 2/5] END criterion=entropy, max_depth=8, min_samples_split=10; total time=   0.0s\n",
      "[CV 3/5] END criterion=entropy, max_depth=8, min_samples_split=10; total time=   0.0s\n",
      "[CV 4/5] END criterion=entropy, max_depth=8, min_samples_split=10; total time=   0.0s\n",
      "[CV 5/5] END criterion=entropy, max_depth=8, min_samples_split=10; total time=   0.0s\n",
      "[CV 1/5] END criterion=entropy, max_depth=9, min_samples_split=2; total time=   0.0s\n",
      "[CV 2/5] END criterion=entropy, max_depth=9, min_samples_split=2; total time=   0.0s\n",
      "[CV 3/5] END criterion=entropy, max_depth=9, min_samples_split=2; total time=   0.0s\n",
      "[CV 4/5] END criterion=entropy, max_depth=9, min_samples_split=2; total time=   0.0s\n",
      "[CV 5/5] END criterion=entropy, max_depth=9, min_samples_split=2; total time=   0.0s\n",
      "[CV 1/5] END criterion=entropy, max_depth=9, min_samples_split=5; total time=   0.0s\n",
      "[CV 2/5] END criterion=entropy, max_depth=9, min_samples_split=5; total time=   0.0s\n",
      "[CV 3/5] END criterion=entropy, max_depth=9, min_samples_split=5; total time=   0.0s\n",
      "[CV 4/5] END criterion=entropy, max_depth=9, min_samples_split=5; total time=   0.0s\n",
      "[CV 5/5] END criterion=entropy, max_depth=9, min_samples_split=5; total time=   0.0s\n",
      "[CV 1/5] END criterion=entropy, max_depth=9, min_samples_split=10; total time=   0.0s\n",
      "[CV 2/5] END criterion=entropy, max_depth=9, min_samples_split=10; total time=   0.0s\n",
      "[CV 3/5] END criterion=entropy, max_depth=9, min_samples_split=10; total time=   0.0s\n",
      "[CV 4/5] END criterion=entropy, max_depth=9, min_samples_split=10; total time=   0.0s\n",
      "[CV 5/5] END criterion=entropy, max_depth=9, min_samples_split=10; total time=   0.0s\n",
      "[CV 1/5] END criterion=entropy, max_depth=10, min_samples_split=2; total time=   0.0s\n",
      "[CV 2/5] END criterion=entropy, max_depth=10, min_samples_split=2; total time=   0.0s\n",
      "[CV 3/5] END criterion=entropy, max_depth=10, min_samples_split=2; total time=   0.0s\n",
      "[CV 4/5] END criterion=entropy, max_depth=10, min_samples_split=2; total time=   0.0s\n",
      "[CV 5/5] END criterion=entropy, max_depth=10, min_samples_split=2; total time=   0.0s\n",
      "[CV 1/5] END criterion=entropy, max_depth=10, min_samples_split=5; total time=   0.0s\n",
      "[CV 2/5] END criterion=entropy, max_depth=10, min_samples_split=5; total time=   0.0s\n",
      "[CV 3/5] END criterion=entropy, max_depth=10, min_samples_split=5; total time=   0.0s\n",
      "[CV 4/5] END criterion=entropy, max_depth=10, min_samples_split=5; total time=   0.0s\n",
      "[CV 5/5] END criterion=entropy, max_depth=10, min_samples_split=5; total time=   0.0s\n",
      "[CV 1/5] END criterion=entropy, max_depth=10, min_samples_split=10; total time=   0.0s\n",
      "[CV 2/5] END criterion=entropy, max_depth=10, min_samples_split=10; total time=   0.0s\n",
      "[CV 3/5] END criterion=entropy, max_depth=10, min_samples_split=10; total time=   0.0s\n",
      "[CV 4/5] END criterion=entropy, max_depth=10, min_samples_split=10; total time=   0.0s\n",
      "[CV 5/5] END criterion=entropy, max_depth=10, min_samples_split=10; total time=   0.0s\n",
      "[CV 1/5] END criterion=entropy, max_depth=11, min_samples_split=2; total time=   0.0s\n",
      "[CV 2/5] END criterion=entropy, max_depth=11, min_samples_split=2; total time=   0.0s\n",
      "[CV 3/5] END criterion=entropy, max_depth=11, min_samples_split=2; total time=   0.0s\n",
      "[CV 4/5] END criterion=entropy, max_depth=11, min_samples_split=2; total time=   0.0s\n",
      "[CV 5/5] END criterion=entropy, max_depth=11, min_samples_split=2; total time=   0.0s\n",
      "[CV 1/5] END criterion=entropy, max_depth=11, min_samples_split=5; total time=   0.0s\n",
      "[CV 2/5] END criterion=entropy, max_depth=11, min_samples_split=5; total time=   0.0s\n",
      "[CV 3/5] END criterion=entropy, max_depth=11, min_samples_split=5; total time=   0.0s\n",
      "[CV 4/5] END criterion=entropy, max_depth=11, min_samples_split=5; total time=   0.0s\n",
      "[CV 5/5] END criterion=entropy, max_depth=11, min_samples_split=5; total time=   0.0s\n",
      "[CV 1/5] END criterion=entropy, max_depth=11, min_samples_split=10; total time=   0.0s\n",
      "[CV 2/5] END criterion=entropy, max_depth=11, min_samples_split=10; total time=   0.0s\n",
      "[CV 3/5] END criterion=entropy, max_depth=11, min_samples_split=10; total time=   0.0s\n",
      "[CV 4/5] END criterion=entropy, max_depth=11, min_samples_split=10; total time=   0.0s\n",
      "[CV 5/5] END criterion=entropy, max_depth=11, min_samples_split=10; total time=   0.0s\n",
      "[CV 1/5] END criterion=entropy, max_depth=12, min_samples_split=2; total time=   0.0s\n",
      "[CV 2/5] END criterion=entropy, max_depth=12, min_samples_split=2; total time=   0.0s\n",
      "[CV 3/5] END criterion=entropy, max_depth=12, min_samples_split=2; total time=   0.0s\n",
      "[CV 4/5] END criterion=entropy, max_depth=12, min_samples_split=2; total time=   0.0s\n",
      "[CV 5/5] END criterion=entropy, max_depth=12, min_samples_split=2; total time=   0.0s\n",
      "[CV 1/5] END criterion=entropy, max_depth=12, min_samples_split=5; total time=   0.0s\n",
      "[CV 2/5] END criterion=entropy, max_depth=12, min_samples_split=5; total time=   0.0s\n",
      "[CV 3/5] END criterion=entropy, max_depth=12, min_samples_split=5; total time=   0.0s\n",
      "[CV 4/5] END criterion=entropy, max_depth=12, min_samples_split=5; total time=   0.0s\n",
      "[CV 5/5] END criterion=entropy, max_depth=12, min_samples_split=5; total time=   0.0s\n",
      "[CV 1/5] END criterion=entropy, max_depth=12, min_samples_split=10; total time=   0.0s\n",
      "[CV 2/5] END criterion=entropy, max_depth=12, min_samples_split=10; total time=   0.0s\n",
      "[CV 3/5] END criterion=entropy, max_depth=12, min_samples_split=10; total time=   0.0s\n",
      "[CV 4/5] END criterion=entropy, max_depth=12, min_samples_split=10; total time=   0.0s\n",
      "[CV 5/5] END criterion=entropy, max_depth=12, min_samples_split=10; total time=   0.0s\n"
     ]
    },
    {
     "name": "stdout",
     "output_type": "stream",
     "text": [
      "[CV 1/5] END criterion=entropy, max_depth=15, min_samples_split=2; total time=   0.0s\n",
      "[CV 2/5] END criterion=entropy, max_depth=15, min_samples_split=2; total time=   0.0s\n",
      "[CV 3/5] END criterion=entropy, max_depth=15, min_samples_split=2; total time=   0.0s\n",
      "[CV 4/5] END criterion=entropy, max_depth=15, min_samples_split=2; total time=   0.0s\n",
      "[CV 5/5] END criterion=entropy, max_depth=15, min_samples_split=2; total time=   0.0s\n",
      "[CV 1/5] END criterion=entropy, max_depth=15, min_samples_split=5; total time=   0.0s\n",
      "[CV 2/5] END criterion=entropy, max_depth=15, min_samples_split=5; total time=   0.0s\n",
      "[CV 3/5] END criterion=entropy, max_depth=15, min_samples_split=5; total time=   0.0s\n",
      "[CV 4/5] END criterion=entropy, max_depth=15, min_samples_split=5; total time=   0.0s\n",
      "[CV 5/5] END criterion=entropy, max_depth=15, min_samples_split=5; total time=   0.0s\n",
      "[CV 1/5] END criterion=entropy, max_depth=15, min_samples_split=10; total time=   0.0s\n",
      "[CV 2/5] END criterion=entropy, max_depth=15, min_samples_split=10; total time=   0.0s\n",
      "[CV 3/5] END criterion=entropy, max_depth=15, min_samples_split=10; total time=   0.0s\n",
      "[CV 4/5] END criterion=entropy, max_depth=15, min_samples_split=10; total time=   0.0s\n",
      "[CV 5/5] END criterion=entropy, max_depth=15, min_samples_split=10; total time=   0.0s\n",
      "[CV 1/5] END criterion=entropy, max_depth=20, min_samples_split=2; total time=   0.0s\n",
      "[CV 2/5] END criterion=entropy, max_depth=20, min_samples_split=2; total time=   0.0s\n",
      "[CV 3/5] END criterion=entropy, max_depth=20, min_samples_split=2; total time=   0.0s\n",
      "[CV 4/5] END criterion=entropy, max_depth=20, min_samples_split=2; total time=   0.0s\n",
      "[CV 5/5] END criterion=entropy, max_depth=20, min_samples_split=2; total time=   0.0s\n",
      "[CV 1/5] END criterion=entropy, max_depth=20, min_samples_split=5; total time=   0.0s\n",
      "[CV 2/5] END criterion=entropy, max_depth=20, min_samples_split=5; total time=   0.0s\n",
      "[CV 3/5] END criterion=entropy, max_depth=20, min_samples_split=5; total time=   0.0s\n",
      "[CV 4/5] END criterion=entropy, max_depth=20, min_samples_split=5; total time=   0.0s\n",
      "[CV 5/5] END criterion=entropy, max_depth=20, min_samples_split=5; total time=   0.0s\n",
      "[CV 1/5] END criterion=entropy, max_depth=20, min_samples_split=10; total time=   0.0s\n",
      "[CV 2/5] END criterion=entropy, max_depth=20, min_samples_split=10; total time=   0.0s\n",
      "[CV 3/5] END criterion=entropy, max_depth=20, min_samples_split=10; total time=   0.0s\n",
      "[CV 4/5] END criterion=entropy, max_depth=20, min_samples_split=10; total time=   0.0s\n",
      "[CV 5/5] END criterion=entropy, max_depth=20, min_samples_split=10; total time=   0.0s\n",
      "[CV 1/5] END criterion=entropy, max_depth=30, min_samples_split=2; total time=   0.0s\n",
      "[CV 2/5] END criterion=entropy, max_depth=30, min_samples_split=2; total time=   0.0s\n",
      "[CV 3/5] END criterion=entropy, max_depth=30, min_samples_split=2; total time=   0.0s\n",
      "[CV 4/5] END criterion=entropy, max_depth=30, min_samples_split=2; total time=   0.0s\n",
      "[CV 5/5] END criterion=entropy, max_depth=30, min_samples_split=2; total time=   0.0s\n",
      "[CV 1/5] END criterion=entropy, max_depth=30, min_samples_split=5; total time=   0.0s\n",
      "[CV 2/5] END criterion=entropy, max_depth=30, min_samples_split=5; total time=   0.0s\n",
      "[CV 3/5] END criterion=entropy, max_depth=30, min_samples_split=5; total time=   0.0s\n",
      "[CV 4/5] END criterion=entropy, max_depth=30, min_samples_split=5; total time=   0.0s\n",
      "[CV 5/5] END criterion=entropy, max_depth=30, min_samples_split=5; total time=   0.0s\n",
      "[CV 1/5] END criterion=entropy, max_depth=30, min_samples_split=10; total time=   0.0s\n",
      "[CV 2/5] END criterion=entropy, max_depth=30, min_samples_split=10; total time=   0.0s\n",
      "[CV 3/5] END criterion=entropy, max_depth=30, min_samples_split=10; total time=   0.0s\n",
      "[CV 4/5] END criterion=entropy, max_depth=30, min_samples_split=10; total time=   0.0s\n",
      "[CV 5/5] END criterion=entropy, max_depth=30, min_samples_split=10; total time=   0.0s\n",
      "[CV 1/5] END criterion=entropy, max_depth=40, min_samples_split=2; total time=   0.0s\n",
      "[CV 2/5] END criterion=entropy, max_depth=40, min_samples_split=2; total time=   0.0s\n",
      "[CV 3/5] END criterion=entropy, max_depth=40, min_samples_split=2; total time=   0.0s\n",
      "[CV 4/5] END criterion=entropy, max_depth=40, min_samples_split=2; total time=   0.0s\n",
      "[CV 5/5] END criterion=entropy, max_depth=40, min_samples_split=2; total time=   0.0s\n",
      "[CV 1/5] END criterion=entropy, max_depth=40, min_samples_split=5; total time=   0.0s\n",
      "[CV 2/5] END criterion=entropy, max_depth=40, min_samples_split=5; total time=   0.0s\n",
      "[CV 3/5] END criterion=entropy, max_depth=40, min_samples_split=5; total time=   0.0s\n",
      "[CV 4/5] END criterion=entropy, max_depth=40, min_samples_split=5; total time=   0.0s\n",
      "[CV 5/5] END criterion=entropy, max_depth=40, min_samples_split=5; total time=   0.0s\n",
      "[CV 1/5] END criterion=entropy, max_depth=40, min_samples_split=10; total time=   0.0s\n",
      "[CV 2/5] END criterion=entropy, max_depth=40, min_samples_split=10; total time=   0.0s\n",
      "[CV 3/5] END criterion=entropy, max_depth=40, min_samples_split=10; total time=   0.0s\n",
      "[CV 4/5] END criterion=entropy, max_depth=40, min_samples_split=10; total time=   0.0s\n",
      "[CV 5/5] END criterion=entropy, max_depth=40, min_samples_split=10; total time=   0.0s\n",
      "[CV 1/5] END criterion=entropy, max_depth=50, min_samples_split=2; total time=   0.0s\n",
      "[CV 2/5] END criterion=entropy, max_depth=50, min_samples_split=2; total time=   0.0s\n",
      "[CV 3/5] END criterion=entropy, max_depth=50, min_samples_split=2; total time=   0.0s\n",
      "[CV 4/5] END criterion=entropy, max_depth=50, min_samples_split=2; total time=   0.0s\n",
      "[CV 5/5] END criterion=entropy, max_depth=50, min_samples_split=2; total time=   0.0s\n",
      "[CV 1/5] END criterion=entropy, max_depth=50, min_samples_split=5; total time=   0.0s\n",
      "[CV 2/5] END criterion=entropy, max_depth=50, min_samples_split=5; total time=   0.0s\n",
      "[CV 3/5] END criterion=entropy, max_depth=50, min_samples_split=5; total time=   0.0s\n",
      "[CV 4/5] END criterion=entropy, max_depth=50, min_samples_split=5; total time=   0.0s\n",
      "[CV 5/5] END criterion=entropy, max_depth=50, min_samples_split=5; total time=   0.0s\n",
      "[CV 1/5] END criterion=entropy, max_depth=50, min_samples_split=10; total time=   0.0s\n",
      "[CV 2/5] END criterion=entropy, max_depth=50, min_samples_split=10; total time=   0.0s\n",
      "[CV 3/5] END criterion=entropy, max_depth=50, min_samples_split=10; total time=   0.0s\n",
      "[CV 4/5] END criterion=entropy, max_depth=50, min_samples_split=10; total time=   0.0s\n",
      "[CV 5/5] END criterion=entropy, max_depth=50, min_samples_split=10; total time=   0.0s\n",
      "[CV 1/5] END criterion=entropy, max_depth=70, min_samples_split=2; total time=   0.0s\n",
      "[CV 2/5] END criterion=entropy, max_depth=70, min_samples_split=2; total time=   0.0s\n",
      "[CV 3/5] END criterion=entropy, max_depth=70, min_samples_split=2; total time=   0.0s\n",
      "[CV 4/5] END criterion=entropy, max_depth=70, min_samples_split=2; total time=   0.0s\n",
      "[CV 5/5] END criterion=entropy, max_depth=70, min_samples_split=2; total time=   0.0s\n",
      "[CV 1/5] END criterion=entropy, max_depth=70, min_samples_split=5; total time=   0.0s\n",
      "[CV 2/5] END criterion=entropy, max_depth=70, min_samples_split=5; total time=   0.0s\n",
      "[CV 3/5] END criterion=entropy, max_depth=70, min_samples_split=5; total time=   0.0s\n",
      "[CV 4/5] END criterion=entropy, max_depth=70, min_samples_split=5; total time=   0.0s\n",
      "[CV 5/5] END criterion=entropy, max_depth=70, min_samples_split=5; total time=   0.0s\n",
      "[CV 1/5] END criterion=entropy, max_depth=70, min_samples_split=10; total time=   0.0s\n",
      "[CV 2/5] END criterion=entropy, max_depth=70, min_samples_split=10; total time=   0.0s\n",
      "[CV 3/5] END criterion=entropy, max_depth=70, min_samples_split=10; total time=   0.0s\n",
      "[CV 4/5] END criterion=entropy, max_depth=70, min_samples_split=10; total time=   0.0s\n",
      "[CV 5/5] END criterion=entropy, max_depth=70, min_samples_split=10; total time=   0.0s\n",
      "[CV 1/5] END criterion=entropy, max_depth=90, min_samples_split=2; total time=   0.0s\n",
      "[CV 2/5] END criterion=entropy, max_depth=90, min_samples_split=2; total time=   0.0s\n",
      "[CV 3/5] END criterion=entropy, max_depth=90, min_samples_split=2; total time=   0.0s\n",
      "[CV 4/5] END criterion=entropy, max_depth=90, min_samples_split=2; total time=   0.0s\n",
      "[CV 5/5] END criterion=entropy, max_depth=90, min_samples_split=2; total time=   0.0s\n",
      "[CV 1/5] END criterion=entropy, max_depth=90, min_samples_split=5; total time=   0.0s\n",
      "[CV 2/5] END criterion=entropy, max_depth=90, min_samples_split=5; total time=   0.0s\n",
      "[CV 3/5] END criterion=entropy, max_depth=90, min_samples_split=5; total time=   0.0s\n",
      "[CV 4/5] END criterion=entropy, max_depth=90, min_samples_split=5; total time=   0.0s\n",
      "[CV 5/5] END criterion=entropy, max_depth=90, min_samples_split=5; total time=   0.0s\n",
      "[CV 1/5] END criterion=entropy, max_depth=90, min_samples_split=10; total time=   0.0s\n",
      "[CV 2/5] END criterion=entropy, max_depth=90, min_samples_split=10; total time=   0.0s\n",
      "[CV 3/5] END criterion=entropy, max_depth=90, min_samples_split=10; total time=   0.0s\n",
      "[CV 4/5] END criterion=entropy, max_depth=90, min_samples_split=10; total time=   0.0s\n"
     ]
    },
    {
     "name": "stdout",
     "output_type": "stream",
     "text": [
      "[CV 5/5] END criterion=entropy, max_depth=90, min_samples_split=10; total time=   0.0s\n",
      "[CV 1/5] END criterion=entropy, max_depth=120, min_samples_split=2; total time=   0.0s\n",
      "[CV 2/5] END criterion=entropy, max_depth=120, min_samples_split=2; total time=   0.0s\n",
      "[CV 3/5] END criterion=entropy, max_depth=120, min_samples_split=2; total time=   0.0s\n",
      "[CV 4/5] END criterion=entropy, max_depth=120, min_samples_split=2; total time=   0.0s\n",
      "[CV 5/5] END criterion=entropy, max_depth=120, min_samples_split=2; total time=   0.0s\n",
      "[CV 1/5] END criterion=entropy, max_depth=120, min_samples_split=5; total time=   0.0s\n",
      "[CV 2/5] END criterion=entropy, max_depth=120, min_samples_split=5; total time=   0.0s\n",
      "[CV 3/5] END criterion=entropy, max_depth=120, min_samples_split=5; total time=   0.0s\n",
      "[CV 4/5] END criterion=entropy, max_depth=120, min_samples_split=5; total time=   0.0s\n",
      "[CV 5/5] END criterion=entropy, max_depth=120, min_samples_split=5; total time=   0.0s\n",
      "[CV 1/5] END criterion=entropy, max_depth=120, min_samples_split=10; total time=   0.0s\n",
      "[CV 2/5] END criterion=entropy, max_depth=120, min_samples_split=10; total time=   0.0s\n",
      "[CV 3/5] END criterion=entropy, max_depth=120, min_samples_split=10; total time=   0.0s\n",
      "[CV 4/5] END criterion=entropy, max_depth=120, min_samples_split=10; total time=   0.0s\n",
      "[CV 5/5] END criterion=entropy, max_depth=120, min_samples_split=10; total time=   0.0s\n",
      "[CV 1/5] END criterion=entropy, max_depth=150, min_samples_split=2; total time=   0.0s\n",
      "[CV 2/5] END criterion=entropy, max_depth=150, min_samples_split=2; total time=   0.0s\n",
      "[CV 3/5] END criterion=entropy, max_depth=150, min_samples_split=2; total time=   0.0s\n",
      "[CV 4/5] END criterion=entropy, max_depth=150, min_samples_split=2; total time=   0.0s\n",
      "[CV 5/5] END criterion=entropy, max_depth=150, min_samples_split=2; total time=   0.0s\n",
      "[CV 1/5] END criterion=entropy, max_depth=150, min_samples_split=5; total time=   0.0s\n",
      "[CV 2/5] END criterion=entropy, max_depth=150, min_samples_split=5; total time=   0.0s\n",
      "[CV 3/5] END criterion=entropy, max_depth=150, min_samples_split=5; total time=   0.0s\n",
      "[CV 4/5] END criterion=entropy, max_depth=150, min_samples_split=5; total time=   0.0s\n",
      "[CV 5/5] END criterion=entropy, max_depth=150, min_samples_split=5; total time=   0.0s\n",
      "[CV 1/5] END criterion=entropy, max_depth=150, min_samples_split=10; total time=   0.0s\n",
      "[CV 2/5] END criterion=entropy, max_depth=150, min_samples_split=10; total time=   0.0s\n",
      "[CV 3/5] END criterion=entropy, max_depth=150, min_samples_split=10; total time=   0.0s\n",
      "[CV 4/5] END criterion=entropy, max_depth=150, min_samples_split=10; total time=   0.0s\n",
      "[CV 5/5] END criterion=entropy, max_depth=150, min_samples_split=10; total time=   0.0s\n"
     ]
    },
    {
     "data": {
      "text/plain": [
       "GridSearchCV(estimator=DecisionTreeClassifier(),\n",
       "             param_grid={'criterion': ['gini', 'entropy'],\n",
       "                         'max_depth': [4, 5, 6, 7, 8, 9, 10, 11, 12, 15, 20, 30,\n",
       "                                       40, 50, 70, 90, 120, 150],\n",
       "                         'min_samples_split': [2, 5, 10]},\n",
       "             verbose=3)"
      ]
     },
     "execution_count": 430,
     "metadata": {},
     "output_type": "execute_result"
    }
   ],
   "source": [
    "dt_grid_model.fit(X_train, y_train)"
   ]
  },
  {
   "cell_type": "code",
   "execution_count": 431,
   "id": "bd628718",
   "metadata": {},
   "outputs": [
    {
     "data": {
      "text/plain": [
       "{'criterion': 'gini', 'max_depth': 8, 'min_samples_split': 10}"
      ]
     },
     "execution_count": 431,
     "metadata": {},
     "output_type": "execute_result"
    }
   ],
   "source": [
    "dt_grid_model.best_params_"
   ]
  },
  {
   "cell_type": "code",
   "execution_count": 432,
   "id": "2b175605",
   "metadata": {},
   "outputs": [],
   "source": [
    "y_pred_grid = dt_grid_model.predict(X_test)"
   ]
  },
  {
   "cell_type": "code",
   "execution_count": 433,
   "id": "29dce9d3",
   "metadata": {},
   "outputs": [],
   "source": [
    "dt_grid_scores = {\"dt_grid_train\": {\"accuracy\" : accuracy_score(y_train, y_train_pred),\n",
    "    \"precision_score\" : precision_score(y_train, y_train_pred,average = \"weighted\"),\n",
    "    \"recall_score\" : recall_score(y_train, y_train_pred,average = \"weighted\"),\n",
    "    \"f1_score\" : f1_score(y_train, y_train_pred, average = \"weighted\"),}, \n",
    "\n",
    "    \"dt_grid_test\": {\"accuracy\" : accuracy_score(y_test, y_pred),\n",
    "    \"precision_score\" : precision_score(y_test, y_pred,average = \"weighted\"),\n",
    "    \"recall_score\" : recall_score(y_test, y_pred, average = \"weighted\"),\n",
    "    \"f1_score\" : f1_score(y_test, y_pred, average = \"weighted\")\n",
    "   }}\n",
    "dt_grid =pd.DataFrame(dt_grid_scores)"
   ]
  },
  {
   "cell_type": "code",
   "execution_count": 434,
   "id": "20898162",
   "metadata": {},
   "outputs": [
    {
     "data": {
      "text/html": [
       "<div>\n",
       "<style scoped>\n",
       "    .dataframe tbody tr th:only-of-type {\n",
       "        vertical-align: middle;\n",
       "    }\n",
       "\n",
       "    .dataframe tbody tr th {\n",
       "        vertical-align: top;\n",
       "    }\n",
       "\n",
       "    .dataframe thead th {\n",
       "        text-align: right;\n",
       "    }\n",
       "</style>\n",
       "<table border=\"1\" class=\"dataframe\">\n",
       "  <thead>\n",
       "    <tr style=\"text-align: right;\">\n",
       "      <th></th>\n",
       "      <th>dt_grid_train</th>\n",
       "      <th>dt_grid_test</th>\n",
       "    </tr>\n",
       "  </thead>\n",
       "  <tbody>\n",
       "    <tr>\n",
       "      <th>accuracy</th>\n",
       "      <td>1.00</td>\n",
       "      <td>0.79</td>\n",
       "    </tr>\n",
       "    <tr>\n",
       "      <th>precision_score</th>\n",
       "      <td>1.00</td>\n",
       "      <td>0.80</td>\n",
       "    </tr>\n",
       "    <tr>\n",
       "      <th>recall_score</th>\n",
       "      <td>1.00</td>\n",
       "      <td>0.79</td>\n",
       "    </tr>\n",
       "    <tr>\n",
       "      <th>f1_score</th>\n",
       "      <td>1.00</td>\n",
       "      <td>0.79</td>\n",
       "    </tr>\n",
       "  </tbody>\n",
       "</table>\n",
       "</div>"
      ],
      "text/plain": [
       "                 dt_grid_train  dt_grid_test\n",
       "accuracy                  1.00          0.79\n",
       "precision_score           1.00          0.80\n",
       "recall_score              1.00          0.79\n",
       "f1_score                  1.00          0.79"
      ]
     },
     "execution_count": 434,
     "metadata": {},
     "output_type": "execute_result"
    }
   ],
   "source": [
    "dt_grid"
   ]
  },
  {
   "cell_type": "markdown",
   "id": "3650aece-313b-4aed-8a72-2b25465b4ae1",
   "metadata": {},
   "source": [
    "## Evaluate Model"
   ]
  },
  {
   "cell_type": "code",
   "execution_count": null,
   "id": "13045e55",
   "metadata": {},
   "outputs": [],
   "source": []
  },
  {
   "cell_type": "markdown",
   "id": "219e3a88-a78e-4054-8b3f-92ec85a8252c",
   "metadata": {
    "tags": []
   },
   "source": [
    "# 3. Random Forest Classification"
   ]
  },
  {
   "cell_type": "markdown",
   "id": "160ad59d-c3b7-4311-bfe7-91ca9d3037d5",
   "metadata": {},
   "source": [
    "## Train - Test Split"
   ]
  },
  {
   "cell_type": "code",
   "execution_count": null,
   "id": "bfe756d4",
   "metadata": {},
   "outputs": [],
   "source": []
  },
  {
   "cell_type": "markdown",
   "id": "2974631a-3aef-4b3c-8b26-e8742039e661",
   "metadata": {},
   "source": [
    "## Model Fitting and Compare Actual and Predicted Labels"
   ]
  },
  {
   "cell_type": "code",
   "execution_count": 435,
   "id": "fe9065bf",
   "metadata": {},
   "outputs": [],
   "source": [
    "from sklearn.ensemble import RandomForestClassifier\n",
    "rf_model = RandomForestClassifier(n_estimators= 10, max_features = \"auto\",random_state= 101)\n",
    "rf_model.fit(X_train, y_train)\n",
    "y_pred = rf_model.predict(X_test)\n",
    "y_train_pred = rf_model.predict(X_train)"
   ]
  },
  {
   "cell_type": "markdown",
   "id": "a2d1197e-b5fa-4079-8199-b0e4efe57bec",
   "metadata": {},
   "source": [
    "## Error Metrics"
   ]
  },
  {
   "cell_type": "code",
   "execution_count": 436,
   "id": "e6feab4c",
   "metadata": {},
   "outputs": [
    {
     "name": "stdout",
     "output_type": "stream",
     "text": [
      "              precision    recall  f1-score   support\n",
      "\n",
      "           0       0.99      0.99      0.99       106\n",
      "           1       0.99      0.99      0.99       106\n",
      "\n",
      "    accuracy                           0.99       212\n",
      "   macro avg       0.99      0.99      0.99       212\n",
      "weighted avg       0.99      0.99      0.99       212\n",
      "\n"
     ]
    }
   ],
   "source": [
    "print(classification_report(y_train, y_train_pred))"
   ]
  },
  {
   "cell_type": "code",
   "execution_count": 437,
   "id": "3e07a285",
   "metadata": {},
   "outputs": [
    {
     "name": "stdout",
     "output_type": "stream",
     "text": [
      "              precision    recall  f1-score   support\n",
      "\n",
      "           0       0.66      0.84      0.74        32\n",
      "           1       0.90      0.76      0.83        59\n",
      "\n",
      "    accuracy                           0.79        91\n",
      "   macro avg       0.78      0.80      0.78        91\n",
      "weighted avg       0.82      0.79      0.80        91\n",
      "\n"
     ]
    }
   ],
   "source": [
    "print(classification_report(y_test, y_pred))"
   ]
  },
  {
   "cell_type": "markdown",
   "id": "cea5f111-af91-449b-adfd-3414bc662c8f",
   "metadata": {},
   "source": [
    "## Evaluate Model"
   ]
  },
  {
   "cell_type": "code",
   "execution_count": 438,
   "id": "bc1c48d3",
   "metadata": {},
   "outputs": [],
   "source": [
    "rf_scores = {\"rf_train\": {\"accuracy\" : accuracy_score(y_train, y_train_pred),\n",
    "    \"precision_score\" : precision_score(y_train, y_train_pred,average = \"weighted\"),\n",
    "    \"recall_score\" : recall_score(y_train, y_train_pred,average = \"weighted\"),\n",
    "    \"f1_score\" : f1_score(y_train, y_train_pred, average = \"weighted\"),}, \n",
    "\n",
    "    \"rf_test\": {\"accuracy\" : accuracy_score(y_test, y_pred),\n",
    "    \"precision_score\" : precision_score(y_test, y_pred,average = \"weighted\"),\n",
    "    \"recall_score\" : recall_score(y_test, y_pred, average = \"weighted\"),\n",
    "    \"f1_score\" : f1_score(y_test, y_pred, average = \"weighted\")\n",
    "   }}\n",
    "rf =pd.DataFrame(rf_scores)"
   ]
  },
  {
   "cell_type": "code",
   "execution_count": 439,
   "id": "41e4385e",
   "metadata": {},
   "outputs": [
    {
     "data": {
      "text/html": [
       "<div>\n",
       "<style scoped>\n",
       "    .dataframe tbody tr th:only-of-type {\n",
       "        vertical-align: middle;\n",
       "    }\n",
       "\n",
       "    .dataframe tbody tr th {\n",
       "        vertical-align: top;\n",
       "    }\n",
       "\n",
       "    .dataframe thead th {\n",
       "        text-align: right;\n",
       "    }\n",
       "</style>\n",
       "<table border=\"1\" class=\"dataframe\">\n",
       "  <thead>\n",
       "    <tr style=\"text-align: right;\">\n",
       "      <th></th>\n",
       "      <th>rf_train</th>\n",
       "      <th>rf_test</th>\n",
       "    </tr>\n",
       "  </thead>\n",
       "  <tbody>\n",
       "    <tr>\n",
       "      <th>accuracy</th>\n",
       "      <td>0.99</td>\n",
       "      <td>0.79</td>\n",
       "    </tr>\n",
       "    <tr>\n",
       "      <th>precision_score</th>\n",
       "      <td>0.99</td>\n",
       "      <td>0.82</td>\n",
       "    </tr>\n",
       "    <tr>\n",
       "      <th>recall_score</th>\n",
       "      <td>0.99</td>\n",
       "      <td>0.79</td>\n",
       "    </tr>\n",
       "    <tr>\n",
       "      <th>f1_score</th>\n",
       "      <td>0.99</td>\n",
       "      <td>0.80</td>\n",
       "    </tr>\n",
       "  </tbody>\n",
       "</table>\n",
       "</div>"
      ],
      "text/plain": [
       "                 rf_train  rf_test\n",
       "accuracy             0.99     0.79\n",
       "precision_score      0.99     0.82\n",
       "recall_score         0.99     0.79\n",
       "f1_score             0.99     0.80"
      ]
     },
     "execution_count": 439,
     "metadata": {},
     "output_type": "execute_result"
    }
   ],
   "source": [
    "rf"
   ]
  },
  {
   "cell_type": "markdown",
   "id": "473c390e",
   "metadata": {},
   "source": [
    "# RF GridsearchCV "
   ]
  },
  {
   "cell_type": "code",
   "execution_count": 440,
   "id": "fa272f19",
   "metadata": {},
   "outputs": [],
   "source": [
    "from sklearn.model_selection import GridSearchCV"
   ]
  },
  {
   "cell_type": "code",
   "execution_count": 449,
   "id": "bf0bca31",
   "metadata": {},
   "outputs": [],
   "source": [
    "param_grid ={\n",
    "    'n_estimators': [5,10,30, 50, 100],\n",
    "    'criterion':['gini','entropy'],\n",
    "    'max_features': ['auto', 'sqrt', 'log2']\n",
    "}"
   ]
  },
  {
   "cell_type": "code",
   "execution_count": 450,
   "id": "a9c5b462",
   "metadata": {},
   "outputs": [],
   "source": [
    "model= RandomForestClassifier()"
   ]
  },
  {
   "cell_type": "code",
   "execution_count": 451,
   "id": "8ad13438",
   "metadata": {},
   "outputs": [],
   "source": [
    "rf_grid_model = GridSearchCV(model, param_grid, verbose = 3, cv=10, refit= True)"
   ]
  },
  {
   "cell_type": "code",
   "execution_count": 452,
   "id": "d632e863",
   "metadata": {},
   "outputs": [
    {
     "name": "stdout",
     "output_type": "stream",
     "text": [
      "Fitting 10 folds for each of 30 candidates, totalling 300 fits\n",
      "[CV 1/10] END criterion=gini, max_features=auto, n_estimators=5; total time=   0.0s\n",
      "[CV 2/10] END criterion=gini, max_features=auto, n_estimators=5; total time=   0.0s\n",
      "[CV 3/10] END criterion=gini, max_features=auto, n_estimators=5; total time=   0.0s\n",
      "[CV 4/10] END criterion=gini, max_features=auto, n_estimators=5; total time=   0.0s\n",
      "[CV 5/10] END criterion=gini, max_features=auto, n_estimators=5; total time=   0.0s\n",
      "[CV 6/10] END criterion=gini, max_features=auto, n_estimators=5; total time=   0.0s\n",
      "[CV 7/10] END criterion=gini, max_features=auto, n_estimators=5; total time=   0.0s\n",
      "[CV 8/10] END criterion=gini, max_features=auto, n_estimators=5; total time=   0.0s\n",
      "[CV 9/10] END criterion=gini, max_features=auto, n_estimators=5; total time=   0.0s\n",
      "[CV 10/10] END criterion=gini, max_features=auto, n_estimators=5; total time=   0.0s\n",
      "[CV 1/10] END criterion=gini, max_features=auto, n_estimators=10; total time=   0.0s\n",
      "[CV 2/10] END criterion=gini, max_features=auto, n_estimators=10; total time=   0.0s\n",
      "[CV 3/10] END criterion=gini, max_features=auto, n_estimators=10; total time=   0.0s\n",
      "[CV 4/10] END criterion=gini, max_features=auto, n_estimators=10; total time=   0.0s\n",
      "[CV 5/10] END criterion=gini, max_features=auto, n_estimators=10; total time=   0.0s\n",
      "[CV 6/10] END criterion=gini, max_features=auto, n_estimators=10; total time=   0.0s\n",
      "[CV 7/10] END criterion=gini, max_features=auto, n_estimators=10; total time=   0.0s\n",
      "[CV 8/10] END criterion=gini, max_features=auto, n_estimators=10; total time=   0.0s\n",
      "[CV 9/10] END criterion=gini, max_features=auto, n_estimators=10; total time=   0.0s\n",
      "[CV 10/10] END criterion=gini, max_features=auto, n_estimators=10; total time=   0.0s\n",
      "[CV 1/10] END criterion=gini, max_features=auto, n_estimators=30; total time=   0.0s\n",
      "[CV 2/10] END criterion=gini, max_features=auto, n_estimators=30; total time=   0.0s\n",
      "[CV 3/10] END criterion=gini, max_features=auto, n_estimators=30; total time=   0.0s\n",
      "[CV 4/10] END criterion=gini, max_features=auto, n_estimators=30; total time=   0.0s\n",
      "[CV 5/10] END criterion=gini, max_features=auto, n_estimators=30; total time=   0.0s\n",
      "[CV 6/10] END criterion=gini, max_features=auto, n_estimators=30; total time=   0.0s\n",
      "[CV 7/10] END criterion=gini, max_features=auto, n_estimators=30; total time=   0.0s\n",
      "[CV 8/10] END criterion=gini, max_features=auto, n_estimators=30; total time=   0.0s\n",
      "[CV 9/10] END criterion=gini, max_features=auto, n_estimators=30; total time=   0.0s\n",
      "[CV 10/10] END criterion=gini, max_features=auto, n_estimators=30; total time=   0.0s\n",
      "[CV 1/10] END criterion=gini, max_features=auto, n_estimators=50; total time=   0.0s\n",
      "[CV 2/10] END criterion=gini, max_features=auto, n_estimators=50; total time=   0.0s\n",
      "[CV 3/10] END criterion=gini, max_features=auto, n_estimators=50; total time=   0.0s\n",
      "[CV 4/10] END criterion=gini, max_features=auto, n_estimators=50; total time=   0.0s\n",
      "[CV 5/10] END criterion=gini, max_features=auto, n_estimators=50; total time=   0.0s\n",
      "[CV 6/10] END criterion=gini, max_features=auto, n_estimators=50; total time=   0.0s\n",
      "[CV 7/10] END criterion=gini, max_features=auto, n_estimators=50; total time=   0.0s\n",
      "[CV 8/10] END criterion=gini, max_features=auto, n_estimators=50; total time=   0.0s\n",
      "[CV 9/10] END criterion=gini, max_features=auto, n_estimators=50; total time=   0.0s\n",
      "[CV 10/10] END criterion=gini, max_features=auto, n_estimators=50; total time=   0.0s\n",
      "[CV 1/10] END criterion=gini, max_features=auto, n_estimators=100; total time=   0.0s\n",
      "[CV 2/10] END criterion=gini, max_features=auto, n_estimators=100; total time=   0.0s\n",
      "[CV 3/10] END criterion=gini, max_features=auto, n_estimators=100; total time=   0.0s\n",
      "[CV 4/10] END criterion=gini, max_features=auto, n_estimators=100; total time=   0.0s\n",
      "[CV 5/10] END criterion=gini, max_features=auto, n_estimators=100; total time=   0.0s\n",
      "[CV 6/10] END criterion=gini, max_features=auto, n_estimators=100; total time=   0.0s\n",
      "[CV 7/10] END criterion=gini, max_features=auto, n_estimators=100; total time=   0.0s\n",
      "[CV 8/10] END criterion=gini, max_features=auto, n_estimators=100; total time=   0.0s\n",
      "[CV 9/10] END criterion=gini, max_features=auto, n_estimators=100; total time=   0.0s\n",
      "[CV 10/10] END criterion=gini, max_features=auto, n_estimators=100; total time=   0.0s\n",
      "[CV 1/10] END criterion=gini, max_features=sqrt, n_estimators=5; total time=   0.0s\n",
      "[CV 2/10] END criterion=gini, max_features=sqrt, n_estimators=5; total time=   0.0s\n",
      "[CV 3/10] END criterion=gini, max_features=sqrt, n_estimators=5; total time=   0.0s\n",
      "[CV 4/10] END criterion=gini, max_features=sqrt, n_estimators=5; total time=   0.0s\n",
      "[CV 5/10] END criterion=gini, max_features=sqrt, n_estimators=5; total time=   0.0s\n",
      "[CV 6/10] END criterion=gini, max_features=sqrt, n_estimators=5; total time=   0.0s\n",
      "[CV 7/10] END criterion=gini, max_features=sqrt, n_estimators=5; total time=   0.0s\n",
      "[CV 8/10] END criterion=gini, max_features=sqrt, n_estimators=5; total time=   0.0s\n",
      "[CV 9/10] END criterion=gini, max_features=sqrt, n_estimators=5; total time=   0.0s\n",
      "[CV 10/10] END criterion=gini, max_features=sqrt, n_estimators=5; total time=   0.0s\n",
      "[CV 1/10] END criterion=gini, max_features=sqrt, n_estimators=10; total time=   0.0s\n",
      "[CV 2/10] END criterion=gini, max_features=sqrt, n_estimators=10; total time=   0.0s\n",
      "[CV 3/10] END criterion=gini, max_features=sqrt, n_estimators=10; total time=   0.0s\n",
      "[CV 4/10] END criterion=gini, max_features=sqrt, n_estimators=10; total time=   0.0s\n",
      "[CV 5/10] END criterion=gini, max_features=sqrt, n_estimators=10; total time=   0.0s\n",
      "[CV 6/10] END criterion=gini, max_features=sqrt, n_estimators=10; total time=   0.0s\n",
      "[CV 7/10] END criterion=gini, max_features=sqrt, n_estimators=10; total time=   0.0s\n",
      "[CV 8/10] END criterion=gini, max_features=sqrt, n_estimators=10; total time=   0.0s\n",
      "[CV 9/10] END criterion=gini, max_features=sqrt, n_estimators=10; total time=   0.0s\n",
      "[CV 10/10] END criterion=gini, max_features=sqrt, n_estimators=10; total time=   0.0s\n",
      "[CV 1/10] END criterion=gini, max_features=sqrt, n_estimators=30; total time=   0.0s\n",
      "[CV 2/10] END criterion=gini, max_features=sqrt, n_estimators=30; total time=   0.0s\n",
      "[CV 3/10] END criterion=gini, max_features=sqrt, n_estimators=30; total time=   0.0s\n",
      "[CV 4/10] END criterion=gini, max_features=sqrt, n_estimators=30; total time=   0.0s\n",
      "[CV 5/10] END criterion=gini, max_features=sqrt, n_estimators=30; total time=   0.0s\n",
      "[CV 6/10] END criterion=gini, max_features=sqrt, n_estimators=30; total time=   0.0s\n",
      "[CV 7/10] END criterion=gini, max_features=sqrt, n_estimators=30; total time=   0.0s\n",
      "[CV 8/10] END criterion=gini, max_features=sqrt, n_estimators=30; total time=   0.0s\n",
      "[CV 9/10] END criterion=gini, max_features=sqrt, n_estimators=30; total time=   0.0s\n",
      "[CV 10/10] END criterion=gini, max_features=sqrt, n_estimators=30; total time=   0.0s\n",
      "[CV 1/10] END criterion=gini, max_features=sqrt, n_estimators=50; total time=   0.0s\n",
      "[CV 2/10] END criterion=gini, max_features=sqrt, n_estimators=50; total time=   0.0s\n",
      "[CV 3/10] END criterion=gini, max_features=sqrt, n_estimators=50; total time=   0.0s\n",
      "[CV 4/10] END criterion=gini, max_features=sqrt, n_estimators=50; total time=   0.0s\n",
      "[CV 5/10] END criterion=gini, max_features=sqrt, n_estimators=50; total time=   0.0s\n",
      "[CV 6/10] END criterion=gini, max_features=sqrt, n_estimators=50; total time=   0.0s\n",
      "[CV 7/10] END criterion=gini, max_features=sqrt, n_estimators=50; total time=   0.0s\n",
      "[CV 8/10] END criterion=gini, max_features=sqrt, n_estimators=50; total time=   0.0s\n",
      "[CV 9/10] END criterion=gini, max_features=sqrt, n_estimators=50; total time=   0.0s\n",
      "[CV 10/10] END criterion=gini, max_features=sqrt, n_estimators=50; total time=   0.0s\n",
      "[CV 1/10] END criterion=gini, max_features=sqrt, n_estimators=100; total time=   0.0s\n",
      "[CV 2/10] END criterion=gini, max_features=sqrt, n_estimators=100; total time=   0.0s\n",
      "[CV 3/10] END criterion=gini, max_features=sqrt, n_estimators=100; total time=   0.0s\n",
      "[CV 4/10] END criterion=gini, max_features=sqrt, n_estimators=100; total time=   0.0s\n",
      "[CV 5/10] END criterion=gini, max_features=sqrt, n_estimators=100; total time=   0.0s\n",
      "[CV 6/10] END criterion=gini, max_features=sqrt, n_estimators=100; total time=   0.0s\n",
      "[CV 7/10] END criterion=gini, max_features=sqrt, n_estimators=100; total time=   0.0s\n",
      "[CV 8/10] END criterion=gini, max_features=sqrt, n_estimators=100; total time=   0.0s\n"
     ]
    },
    {
     "name": "stdout",
     "output_type": "stream",
     "text": [
      "[CV 9/10] END criterion=gini, max_features=sqrt, n_estimators=100; total time=   0.0s\n",
      "[CV 10/10] END criterion=gini, max_features=sqrt, n_estimators=100; total time=   0.0s\n",
      "[CV 1/10] END criterion=gini, max_features=log2, n_estimators=5; total time=   0.0s\n",
      "[CV 2/10] END criterion=gini, max_features=log2, n_estimators=5; total time=   0.0s\n",
      "[CV 3/10] END criterion=gini, max_features=log2, n_estimators=5; total time=   0.0s\n",
      "[CV 4/10] END criterion=gini, max_features=log2, n_estimators=5; total time=   0.0s\n",
      "[CV 5/10] END criterion=gini, max_features=log2, n_estimators=5; total time=   0.0s\n",
      "[CV 6/10] END criterion=gini, max_features=log2, n_estimators=5; total time=   0.0s\n",
      "[CV 7/10] END criterion=gini, max_features=log2, n_estimators=5; total time=   0.0s\n",
      "[CV 8/10] END criterion=gini, max_features=log2, n_estimators=5; total time=   0.0s\n",
      "[CV 9/10] END criterion=gini, max_features=log2, n_estimators=5; total time=   0.0s\n",
      "[CV 10/10] END criterion=gini, max_features=log2, n_estimators=5; total time=   0.0s\n",
      "[CV 1/10] END criterion=gini, max_features=log2, n_estimators=10; total time=   0.0s\n",
      "[CV 2/10] END criterion=gini, max_features=log2, n_estimators=10; total time=   0.0s\n",
      "[CV 3/10] END criterion=gini, max_features=log2, n_estimators=10; total time=   0.0s\n",
      "[CV 4/10] END criterion=gini, max_features=log2, n_estimators=10; total time=   0.0s\n",
      "[CV 5/10] END criterion=gini, max_features=log2, n_estimators=10; total time=   0.0s\n",
      "[CV 6/10] END criterion=gini, max_features=log2, n_estimators=10; total time=   0.0s\n",
      "[CV 7/10] END criterion=gini, max_features=log2, n_estimators=10; total time=   0.0s\n",
      "[CV 8/10] END criterion=gini, max_features=log2, n_estimators=10; total time=   0.0s\n",
      "[CV 9/10] END criterion=gini, max_features=log2, n_estimators=10; total time=   0.0s\n",
      "[CV 10/10] END criterion=gini, max_features=log2, n_estimators=10; total time=   0.0s\n",
      "[CV 1/10] END criterion=gini, max_features=log2, n_estimators=30; total time=   0.0s\n",
      "[CV 2/10] END criterion=gini, max_features=log2, n_estimators=30; total time=   0.0s\n",
      "[CV 3/10] END criterion=gini, max_features=log2, n_estimators=30; total time=   0.0s\n",
      "[CV 4/10] END criterion=gini, max_features=log2, n_estimators=30; total time=   0.0s\n",
      "[CV 5/10] END criterion=gini, max_features=log2, n_estimators=30; total time=   0.0s\n",
      "[CV 6/10] END criterion=gini, max_features=log2, n_estimators=30; total time=   0.0s\n",
      "[CV 7/10] END criterion=gini, max_features=log2, n_estimators=30; total time=   0.0s\n",
      "[CV 8/10] END criterion=gini, max_features=log2, n_estimators=30; total time=   0.0s\n",
      "[CV 9/10] END criterion=gini, max_features=log2, n_estimators=30; total time=   0.0s\n",
      "[CV 10/10] END criterion=gini, max_features=log2, n_estimators=30; total time=   0.0s\n",
      "[CV 1/10] END criterion=gini, max_features=log2, n_estimators=50; total time=   0.0s\n",
      "[CV 2/10] END criterion=gini, max_features=log2, n_estimators=50; total time=   0.0s\n",
      "[CV 3/10] END criterion=gini, max_features=log2, n_estimators=50; total time=   0.0s\n",
      "[CV 4/10] END criterion=gini, max_features=log2, n_estimators=50; total time=   0.0s\n",
      "[CV 5/10] END criterion=gini, max_features=log2, n_estimators=50; total time=   0.0s\n",
      "[CV 6/10] END criterion=gini, max_features=log2, n_estimators=50; total time=   0.0s\n",
      "[CV 7/10] END criterion=gini, max_features=log2, n_estimators=50; total time=   0.0s\n",
      "[CV 8/10] END criterion=gini, max_features=log2, n_estimators=50; total time=   0.0s\n",
      "[CV 9/10] END criterion=gini, max_features=log2, n_estimators=50; total time=   0.0s\n",
      "[CV 10/10] END criterion=gini, max_features=log2, n_estimators=50; total time=   0.0s\n",
      "[CV 1/10] END criterion=gini, max_features=log2, n_estimators=100; total time=   0.0s\n",
      "[CV 2/10] END criterion=gini, max_features=log2, n_estimators=100; total time=   0.0s\n",
      "[CV 3/10] END criterion=gini, max_features=log2, n_estimators=100; total time=   0.0s\n",
      "[CV 4/10] END criterion=gini, max_features=log2, n_estimators=100; total time=   0.0s\n",
      "[CV 5/10] END criterion=gini, max_features=log2, n_estimators=100; total time=   0.0s\n",
      "[CV 6/10] END criterion=gini, max_features=log2, n_estimators=100; total time=   0.0s\n",
      "[CV 7/10] END criterion=gini, max_features=log2, n_estimators=100; total time=   0.0s\n",
      "[CV 8/10] END criterion=gini, max_features=log2, n_estimators=100; total time=   0.0s\n",
      "[CV 9/10] END criterion=gini, max_features=log2, n_estimators=100; total time=   0.0s\n",
      "[CV 10/10] END criterion=gini, max_features=log2, n_estimators=100; total time=   0.0s\n",
      "[CV 1/10] END criterion=entropy, max_features=auto, n_estimators=5; total time=   0.0s\n",
      "[CV 2/10] END criterion=entropy, max_features=auto, n_estimators=5; total time=   0.0s\n",
      "[CV 3/10] END criterion=entropy, max_features=auto, n_estimators=5; total time=   0.0s\n",
      "[CV 4/10] END criterion=entropy, max_features=auto, n_estimators=5; total time=   0.0s\n",
      "[CV 5/10] END criterion=entropy, max_features=auto, n_estimators=5; total time=   0.0s\n",
      "[CV 6/10] END criterion=entropy, max_features=auto, n_estimators=5; total time=   0.0s\n",
      "[CV 7/10] END criterion=entropy, max_features=auto, n_estimators=5; total time=   0.0s\n",
      "[CV 8/10] END criterion=entropy, max_features=auto, n_estimators=5; total time=   0.0s\n",
      "[CV 9/10] END criterion=entropy, max_features=auto, n_estimators=5; total time=   0.0s\n",
      "[CV 10/10] END criterion=entropy, max_features=auto, n_estimators=5; total time=   0.0s\n",
      "[CV 1/10] END criterion=entropy, max_features=auto, n_estimators=10; total time=   0.0s\n",
      "[CV 2/10] END criterion=entropy, max_features=auto, n_estimators=10; total time=   0.0s\n",
      "[CV 3/10] END criterion=entropy, max_features=auto, n_estimators=10; total time=   0.0s\n",
      "[CV 4/10] END criterion=entropy, max_features=auto, n_estimators=10; total time=   0.0s\n",
      "[CV 5/10] END criterion=entropy, max_features=auto, n_estimators=10; total time=   0.0s\n",
      "[CV 6/10] END criterion=entropy, max_features=auto, n_estimators=10; total time=   0.0s\n",
      "[CV 7/10] END criterion=entropy, max_features=auto, n_estimators=10; total time=   0.0s\n",
      "[CV 8/10] END criterion=entropy, max_features=auto, n_estimators=10; total time=   0.0s\n",
      "[CV 9/10] END criterion=entropy, max_features=auto, n_estimators=10; total time=   0.0s\n",
      "[CV 10/10] END criterion=entropy, max_features=auto, n_estimators=10; total time=   0.0s\n",
      "[CV 1/10] END criterion=entropy, max_features=auto, n_estimators=30; total time=   0.0s\n",
      "[CV 2/10] END criterion=entropy, max_features=auto, n_estimators=30; total time=   0.0s\n",
      "[CV 3/10] END criterion=entropy, max_features=auto, n_estimators=30; total time=   0.0s\n",
      "[CV 4/10] END criterion=entropy, max_features=auto, n_estimators=30; total time=   0.0s\n",
      "[CV 5/10] END criterion=entropy, max_features=auto, n_estimators=30; total time=   0.0s\n",
      "[CV 6/10] END criterion=entropy, max_features=auto, n_estimators=30; total time=   0.0s\n",
      "[CV 7/10] END criterion=entropy, max_features=auto, n_estimators=30; total time=   0.0s\n",
      "[CV 8/10] END criterion=entropy, max_features=auto, n_estimators=30; total time=   0.0s\n",
      "[CV 9/10] END criterion=entropy, max_features=auto, n_estimators=30; total time=   0.0s\n",
      "[CV 10/10] END criterion=entropy, max_features=auto, n_estimators=30; total time=   0.0s\n",
      "[CV 1/10] END criterion=entropy, max_features=auto, n_estimators=50; total time=   0.0s\n",
      "[CV 2/10] END criterion=entropy, max_features=auto, n_estimators=50; total time=   0.0s\n",
      "[CV 3/10] END criterion=entropy, max_features=auto, n_estimators=50; total time=   0.0s\n",
      "[CV 4/10] END criterion=entropy, max_features=auto, n_estimators=50; total time=   0.0s\n",
      "[CV 5/10] END criterion=entropy, max_features=auto, n_estimators=50; total time=   0.0s\n",
      "[CV 6/10] END criterion=entropy, max_features=auto, n_estimators=50; total time=   0.0s\n",
      "[CV 7/10] END criterion=entropy, max_features=auto, n_estimators=50; total time=   0.0s\n",
      "[CV 8/10] END criterion=entropy, max_features=auto, n_estimators=50; total time=   0.0s\n",
      "[CV 9/10] END criterion=entropy, max_features=auto, n_estimators=50; total time=   0.0s\n",
      "[CV 10/10] END criterion=entropy, max_features=auto, n_estimators=50; total time=   0.0s\n",
      "[CV 1/10] END criterion=entropy, max_features=auto, n_estimators=100; total time=   0.0s\n",
      "[CV 2/10] END criterion=entropy, max_features=auto, n_estimators=100; total time=   0.0s\n",
      "[CV 3/10] END criterion=entropy, max_features=auto, n_estimators=100; total time=   0.0s\n",
      "[CV 4/10] END criterion=entropy, max_features=auto, n_estimators=100; total time=   0.0s\n"
     ]
    },
    {
     "name": "stdout",
     "output_type": "stream",
     "text": [
      "[CV 5/10] END criterion=entropy, max_features=auto, n_estimators=100; total time=   0.0s\n",
      "[CV 6/10] END criterion=entropy, max_features=auto, n_estimators=100; total time=   0.0s\n",
      "[CV 7/10] END criterion=entropy, max_features=auto, n_estimators=100; total time=   0.0s\n",
      "[CV 8/10] END criterion=entropy, max_features=auto, n_estimators=100; total time=   0.0s\n",
      "[CV 9/10] END criterion=entropy, max_features=auto, n_estimators=100; total time=   0.0s\n",
      "[CV 10/10] END criterion=entropy, max_features=auto, n_estimators=100; total time=   0.0s\n",
      "[CV 1/10] END criterion=entropy, max_features=sqrt, n_estimators=5; total time=   0.0s\n",
      "[CV 2/10] END criterion=entropy, max_features=sqrt, n_estimators=5; total time=   0.0s\n",
      "[CV 3/10] END criterion=entropy, max_features=sqrt, n_estimators=5; total time=   0.0s\n",
      "[CV 4/10] END criterion=entropy, max_features=sqrt, n_estimators=5; total time=   0.0s\n",
      "[CV 5/10] END criterion=entropy, max_features=sqrt, n_estimators=5; total time=   0.0s\n",
      "[CV 6/10] END criterion=entropy, max_features=sqrt, n_estimators=5; total time=   0.0s\n",
      "[CV 7/10] END criterion=entropy, max_features=sqrt, n_estimators=5; total time=   0.0s\n",
      "[CV 8/10] END criterion=entropy, max_features=sqrt, n_estimators=5; total time=   0.0s\n",
      "[CV 9/10] END criterion=entropy, max_features=sqrt, n_estimators=5; total time=   0.0s\n",
      "[CV 10/10] END criterion=entropy, max_features=sqrt, n_estimators=5; total time=   0.0s\n",
      "[CV 1/10] END criterion=entropy, max_features=sqrt, n_estimators=10; total time=   0.0s\n",
      "[CV 2/10] END criterion=entropy, max_features=sqrt, n_estimators=10; total time=   0.0s\n",
      "[CV 3/10] END criterion=entropy, max_features=sqrt, n_estimators=10; total time=   0.0s\n",
      "[CV 4/10] END criterion=entropy, max_features=sqrt, n_estimators=10; total time=   0.0s\n",
      "[CV 5/10] END criterion=entropy, max_features=sqrt, n_estimators=10; total time=   0.0s\n",
      "[CV 6/10] END criterion=entropy, max_features=sqrt, n_estimators=10; total time=   0.0s\n",
      "[CV 7/10] END criterion=entropy, max_features=sqrt, n_estimators=10; total time=   0.0s\n",
      "[CV 8/10] END criterion=entropy, max_features=sqrt, n_estimators=10; total time=   0.0s\n",
      "[CV 9/10] END criterion=entropy, max_features=sqrt, n_estimators=10; total time=   0.0s\n",
      "[CV 10/10] END criterion=entropy, max_features=sqrt, n_estimators=10; total time=   0.0s\n",
      "[CV 1/10] END criterion=entropy, max_features=sqrt, n_estimators=30; total time=   0.0s\n",
      "[CV 2/10] END criterion=entropy, max_features=sqrt, n_estimators=30; total time=   0.0s\n",
      "[CV 3/10] END criterion=entropy, max_features=sqrt, n_estimators=30; total time=   0.0s\n",
      "[CV 4/10] END criterion=entropy, max_features=sqrt, n_estimators=30; total time=   0.0s\n",
      "[CV 5/10] END criterion=entropy, max_features=sqrt, n_estimators=30; total time=   0.0s\n",
      "[CV 6/10] END criterion=entropy, max_features=sqrt, n_estimators=30; total time=   0.0s\n",
      "[CV 7/10] END criterion=entropy, max_features=sqrt, n_estimators=30; total time=   0.0s\n",
      "[CV 8/10] END criterion=entropy, max_features=sqrt, n_estimators=30; total time=   0.0s\n",
      "[CV 9/10] END criterion=entropy, max_features=sqrt, n_estimators=30; total time=   0.0s\n",
      "[CV 10/10] END criterion=entropy, max_features=sqrt, n_estimators=30; total time=   0.0s\n",
      "[CV 1/10] END criterion=entropy, max_features=sqrt, n_estimators=50; total time=   0.0s\n",
      "[CV 2/10] END criterion=entropy, max_features=sqrt, n_estimators=50; total time=   0.0s\n",
      "[CV 3/10] END criterion=entropy, max_features=sqrt, n_estimators=50; total time=   0.0s\n",
      "[CV 4/10] END criterion=entropy, max_features=sqrt, n_estimators=50; total time=   0.0s\n",
      "[CV 5/10] END criterion=entropy, max_features=sqrt, n_estimators=50; total time=   0.0s\n",
      "[CV 6/10] END criterion=entropy, max_features=sqrt, n_estimators=50; total time=   0.0s\n",
      "[CV 7/10] END criterion=entropy, max_features=sqrt, n_estimators=50; total time=   0.0s\n",
      "[CV 8/10] END criterion=entropy, max_features=sqrt, n_estimators=50; total time=   0.0s\n",
      "[CV 9/10] END criterion=entropy, max_features=sqrt, n_estimators=50; total time=   0.0s\n",
      "[CV 10/10] END criterion=entropy, max_features=sqrt, n_estimators=50; total time=   0.0s\n",
      "[CV 1/10] END criterion=entropy, max_features=sqrt, n_estimators=100; total time=   0.0s\n",
      "[CV 2/10] END criterion=entropy, max_features=sqrt, n_estimators=100; total time=   0.0s\n",
      "[CV 3/10] END criterion=entropy, max_features=sqrt, n_estimators=100; total time=   0.0s\n",
      "[CV 4/10] END criterion=entropy, max_features=sqrt, n_estimators=100; total time=   0.0s\n",
      "[CV 5/10] END criterion=entropy, max_features=sqrt, n_estimators=100; total time=   0.0s\n",
      "[CV 6/10] END criterion=entropy, max_features=sqrt, n_estimators=100; total time=   0.0s\n",
      "[CV 7/10] END criterion=entropy, max_features=sqrt, n_estimators=100; total time=   0.0s\n",
      "[CV 8/10] END criterion=entropy, max_features=sqrt, n_estimators=100; total time=   0.0s\n",
      "[CV 9/10] END criterion=entropy, max_features=sqrt, n_estimators=100; total time=   0.0s\n",
      "[CV 10/10] END criterion=entropy, max_features=sqrt, n_estimators=100; total time=   0.0s\n",
      "[CV 1/10] END criterion=entropy, max_features=log2, n_estimators=5; total time=   0.0s\n",
      "[CV 2/10] END criterion=entropy, max_features=log2, n_estimators=5; total time=   0.0s\n",
      "[CV 3/10] END criterion=entropy, max_features=log2, n_estimators=5; total time=   0.0s\n",
      "[CV 4/10] END criterion=entropy, max_features=log2, n_estimators=5; total time=   0.0s\n",
      "[CV 5/10] END criterion=entropy, max_features=log2, n_estimators=5; total time=   0.0s\n",
      "[CV 6/10] END criterion=entropy, max_features=log2, n_estimators=5; total time=   0.0s\n",
      "[CV 7/10] END criterion=entropy, max_features=log2, n_estimators=5; total time=   0.0s\n",
      "[CV 8/10] END criterion=entropy, max_features=log2, n_estimators=5; total time=   0.0s\n",
      "[CV 9/10] END criterion=entropy, max_features=log2, n_estimators=5; total time=   0.0s\n",
      "[CV 10/10] END criterion=entropy, max_features=log2, n_estimators=5; total time=   0.0s\n",
      "[CV 1/10] END criterion=entropy, max_features=log2, n_estimators=10; total time=   0.0s\n",
      "[CV 2/10] END criterion=entropy, max_features=log2, n_estimators=10; total time=   0.0s\n",
      "[CV 3/10] END criterion=entropy, max_features=log2, n_estimators=10; total time=   0.0s\n",
      "[CV 4/10] END criterion=entropy, max_features=log2, n_estimators=10; total time=   0.0s\n",
      "[CV 5/10] END criterion=entropy, max_features=log2, n_estimators=10; total time=   0.0s\n",
      "[CV 6/10] END criterion=entropy, max_features=log2, n_estimators=10; total time=   0.0s\n",
      "[CV 7/10] END criterion=entropy, max_features=log2, n_estimators=10; total time=   0.0s\n",
      "[CV 8/10] END criterion=entropy, max_features=log2, n_estimators=10; total time=   0.0s\n",
      "[CV 9/10] END criterion=entropy, max_features=log2, n_estimators=10; total time=   0.0s\n",
      "[CV 10/10] END criterion=entropy, max_features=log2, n_estimators=10; total time=   0.0s\n",
      "[CV 1/10] END criterion=entropy, max_features=log2, n_estimators=30; total time=   0.0s\n",
      "[CV 2/10] END criterion=entropy, max_features=log2, n_estimators=30; total time=   0.0s\n",
      "[CV 3/10] END criterion=entropy, max_features=log2, n_estimators=30; total time=   0.0s\n",
      "[CV 4/10] END criterion=entropy, max_features=log2, n_estimators=30; total time=   0.0s\n",
      "[CV 5/10] END criterion=entropy, max_features=log2, n_estimators=30; total time=   0.0s\n",
      "[CV 6/10] END criterion=entropy, max_features=log2, n_estimators=30; total time=   0.0s\n",
      "[CV 7/10] END criterion=entropy, max_features=log2, n_estimators=30; total time=   0.0s\n",
      "[CV 8/10] END criterion=entropy, max_features=log2, n_estimators=30; total time=   0.0s\n",
      "[CV 9/10] END criterion=entropy, max_features=log2, n_estimators=30; total time=   0.0s\n",
      "[CV 10/10] END criterion=entropy, max_features=log2, n_estimators=30; total time=   0.0s\n",
      "[CV 1/10] END criterion=entropy, max_features=log2, n_estimators=50; total time=   0.0s\n",
      "[CV 2/10] END criterion=entropy, max_features=log2, n_estimators=50; total time=   0.0s\n",
      "[CV 3/10] END criterion=entropy, max_features=log2, n_estimators=50; total time=   0.0s\n",
      "[CV 4/10] END criterion=entropy, max_features=log2, n_estimators=50; total time=   0.0s\n",
      "[CV 5/10] END criterion=entropy, max_features=log2, n_estimators=50; total time=   0.0s\n",
      "[CV 6/10] END criterion=entropy, max_features=log2, n_estimators=50; total time=   0.0s\n",
      "[CV 7/10] END criterion=entropy, max_features=log2, n_estimators=50; total time=   0.0s\n",
      "[CV 8/10] END criterion=entropy, max_features=log2, n_estimators=50; total time=   0.0s\n",
      "[CV 9/10] END criterion=entropy, max_features=log2, n_estimators=50; total time=   0.0s\n"
     ]
    },
    {
     "name": "stdout",
     "output_type": "stream",
     "text": [
      "[CV 10/10] END criterion=entropy, max_features=log2, n_estimators=50; total time=   0.0s\n",
      "[CV 1/10] END criterion=entropy, max_features=log2, n_estimators=100; total time=   0.0s\n",
      "[CV 2/10] END criterion=entropy, max_features=log2, n_estimators=100; total time=   0.0s\n",
      "[CV 3/10] END criterion=entropy, max_features=log2, n_estimators=100; total time=   0.0s\n",
      "[CV 4/10] END criterion=entropy, max_features=log2, n_estimators=100; total time=   0.0s\n",
      "[CV 5/10] END criterion=entropy, max_features=log2, n_estimators=100; total time=   0.0s\n",
      "[CV 6/10] END criterion=entropy, max_features=log2, n_estimators=100; total time=   0.0s\n",
      "[CV 7/10] END criterion=entropy, max_features=log2, n_estimators=100; total time=   0.0s\n",
      "[CV 8/10] END criterion=entropy, max_features=log2, n_estimators=100; total time=   0.0s\n",
      "[CV 9/10] END criterion=entropy, max_features=log2, n_estimators=100; total time=   0.0s\n",
      "[CV 10/10] END criterion=entropy, max_features=log2, n_estimators=100; total time=   0.0s\n"
     ]
    },
    {
     "data": {
      "text/plain": [
       "GridSearchCV(cv=10, estimator=RandomForestClassifier(),\n",
       "             param_grid={'criterion': ['gini', 'entropy'],\n",
       "                         'max_features': ['auto', 'sqrt', 'log2'],\n",
       "                         'n_estimators': [5, 10, 30, 50, 100]},\n",
       "             verbose=3)"
      ]
     },
     "execution_count": 452,
     "metadata": {},
     "output_type": "execute_result"
    }
   ],
   "source": [
    "rf_grid_model.fit(X_train, y_train)"
   ]
  },
  {
   "cell_type": "code",
   "execution_count": 453,
   "id": "45ada8d5",
   "metadata": {},
   "outputs": [
    {
     "data": {
      "text/plain": [
       "{'criterion': 'entropy', 'max_features': 'sqrt', 'n_estimators': 100}"
      ]
     },
     "execution_count": 453,
     "metadata": {},
     "output_type": "execute_result"
    }
   ],
   "source": [
    "rf_grid_model.best_params_"
   ]
  },
  {
   "cell_type": "code",
   "execution_count": 454,
   "id": "82193cc6",
   "metadata": {},
   "outputs": [],
   "source": [
    "y_pred_grid = rf_grid_model.predict(X_test)"
   ]
  },
  {
   "cell_type": "code",
   "execution_count": 455,
   "id": "78885856",
   "metadata": {},
   "outputs": [],
   "source": [
    "rf_grid_scores = {\"rf_grid_train\": {\"accuracy\" : accuracy_score(y_train, y_train_pred),\n",
    "    \"precision_score\" : precision_score(y_train, y_train_pred,average = \"weighted\"),\n",
    "    \"recall_score\" : recall_score(y_train, y_train_pred,average = \"weighted\"),\n",
    "    \"f1_score\" : f1_score(y_train, y_train_pred, average = \"weighted\"),}, \n",
    "\n",
    "    \"rf_grid_test\": {\"accuracy\" : accuracy_score(y_test, y_pred),\n",
    "    \"precision_score\" : precision_score(y_test, y_pred,average = \"weighted\"),\n",
    "    \"recall_score\" : recall_score(y_test, y_pred, average = \"weighted\"),\n",
    "    \"f1_score\" : f1_score(y_test, y_pred, average = \"weighted\")\n",
    "   }}\n",
    "rf_grid =pd.DataFrame(rf_grid_scores)"
   ]
  },
  {
   "cell_type": "code",
   "execution_count": 456,
   "id": "dbbce460",
   "metadata": {},
   "outputs": [
    {
     "data": {
      "text/html": [
       "<div>\n",
       "<style scoped>\n",
       "    .dataframe tbody tr th:only-of-type {\n",
       "        vertical-align: middle;\n",
       "    }\n",
       "\n",
       "    .dataframe tbody tr th {\n",
       "        vertical-align: top;\n",
       "    }\n",
       "\n",
       "    .dataframe thead th {\n",
       "        text-align: right;\n",
       "    }\n",
       "</style>\n",
       "<table border=\"1\" class=\"dataframe\">\n",
       "  <thead>\n",
       "    <tr style=\"text-align: right;\">\n",
       "      <th></th>\n",
       "      <th>rf_grid_train</th>\n",
       "      <th>rf_grid_test</th>\n",
       "    </tr>\n",
       "  </thead>\n",
       "  <tbody>\n",
       "    <tr>\n",
       "      <th>accuracy</th>\n",
       "      <td>0.99</td>\n",
       "      <td>0.79</td>\n",
       "    </tr>\n",
       "    <tr>\n",
       "      <th>precision_score</th>\n",
       "      <td>0.99</td>\n",
       "      <td>0.82</td>\n",
       "    </tr>\n",
       "    <tr>\n",
       "      <th>recall_score</th>\n",
       "      <td>0.99</td>\n",
       "      <td>0.79</td>\n",
       "    </tr>\n",
       "    <tr>\n",
       "      <th>f1_score</th>\n",
       "      <td>0.99</td>\n",
       "      <td>0.80</td>\n",
       "    </tr>\n",
       "  </tbody>\n",
       "</table>\n",
       "</div>"
      ],
      "text/plain": [
       "                 rf_grid_train  rf_grid_test\n",
       "accuracy                  0.99          0.79\n",
       "precision_score           0.99          0.82\n",
       "recall_score              0.99          0.79\n",
       "f1_score                  0.99          0.80"
      ]
     },
     "execution_count": 456,
     "metadata": {},
     "output_type": "execute_result"
    }
   ],
   "source": [
    "rf_grid"
   ]
  },
  {
   "cell_type": "code",
   "execution_count": null,
   "id": "e906b75e",
   "metadata": {},
   "outputs": [],
   "source": []
  },
  {
   "cell_type": "code",
   "execution_count": null,
   "id": "59de4e67",
   "metadata": {},
   "outputs": [],
   "source": []
  },
  {
   "cell_type": "code",
   "execution_count": null,
   "id": "9c9b7a96",
   "metadata": {},
   "outputs": [],
   "source": []
  }
 ],
 "metadata": {
  "kernelspec": {
   "display_name": "Python 3",
   "language": "python",
   "name": "python3"
  },
  "language_info": {
   "codemirror_mode": {
    "name": "ipython",
    "version": 3
   },
   "file_extension": ".py",
   "mimetype": "text/x-python",
   "name": "python",
   "nbconvert_exporter": "python",
   "pygments_lexer": "ipython3",
   "version": "3.8.8"
  }
 },
 "nbformat": 4,
 "nbformat_minor": 5
}
